{
 "cells": [
  {
   "attachments": {},
   "cell_type": "markdown",
   "metadata": {},
   "source": [
    "# Rossmann Store Sales\n",
    "Forecasting sales using store, promotion and competitor data."
   ]
  },
  {
   "cell_type": "code",
   "execution_count": 1,
   "metadata": {},
   "outputs": [],
   "source": [
    "import numpy as np\n",
    "import pandas as pd\n",
    "import matplotlib.pyplot as plt\n",
    "import seaborn as sns\n",
    "import sklearn as sk\n",
    "\n",
    "from tqdm.notebook import tqdm\n",
    "from pprint import pprint\n",
    "\n",
    "from sklearn.preprocessing import StandardScaler\n",
    "from sklearn.model_selection import train_test_split\n",
    "from sklearn.metrics import mean_squared_error\n",
    "\n",
    "from sklearn.neighbors import KNeighborsRegressor\n",
    "from sklearn.linear_model import LinearRegression\n",
    "from sklearn.ensemble import RandomForestRegressor\n",
    "from sklearn.tree import DecisionTreeRegressor\n",
    "from sklearn.ensemble import AdaBoostRegressor\n",
    "from sklearn.ensemble import GradientBoostingRegressor\n",
    "from sklearn.svm import SVR\n",
    "import xgboost\n",
    "\n",
    "from tqdm import tqdm\n",
    "from sklearn.model_selection import GridSearchCV\n",
    "from sklearn.model_selection import cross_val_score\n",
    "\n",
    "from sklearn.ensemble import StackingRegressor\n",
    "\n",
    "from sklearn.ensemble import StackingClassifier\n",
    "from sklearn.linear_model import LogisticRegression\n",
    "\n",
    "import time\n",
    "\n"
   ]
  },
  {
   "attachments": {},
   "cell_type": "markdown",
   "metadata": {},
   "source": [
    "## 1. Data Preparation"
   ]
  },
  {
   "cell_type": "code",
   "execution_count": 2,
   "metadata": {},
   "outputs": [
    {
     "name": "stderr",
     "output_type": "stream",
     "text": [
      "/var/folders/_y/hzd68ny17rsfgx2sq7wtmxcw0000gn/T/ipykernel_6409/309179011.py:2: DtypeWarning: Columns (7) have mixed types. Specify dtype option on import or set low_memory=False.\n",
      "  train = pd.read_csv('input-rss/train.csv')\n"
     ]
    }
   ],
   "source": [
    "# read data\n",
    "train = pd.read_csv('input-rss/train.csv')\n",
    "store = pd.read_csv('input-rss/store.csv')\n",
    "test = pd.read_csv('input-rss/test.csv')"
   ]
  },
  {
   "cell_type": "code",
   "execution_count": 3,
   "metadata": {},
   "outputs": [
    {
     "name": "stdout",
     "output_type": "stream",
     "text": [
      "<class 'pandas.core.frame.DataFrame'>\n",
      "RangeIndex: 1115 entries, 0 to 1114\n",
      "Data columns (total 10 columns):\n",
      " #   Column                     Non-Null Count  Dtype  \n",
      "---  ------                     --------------  -----  \n",
      " 0   Store                      1115 non-null   int64  \n",
      " 1   StoreType                  1115 non-null   object \n",
      " 2   Assortment                 1115 non-null   object \n",
      " 3   CompetitionDistance        1112 non-null   float64\n",
      " 4   CompetitionOpenSinceMonth  761 non-null    float64\n",
      " 5   CompetitionOpenSinceYear   761 non-null    float64\n",
      " 6   Promo2                     1115 non-null   int64  \n",
      " 7   Promo2SinceWeek            571 non-null    float64\n",
      " 8   Promo2SinceYear            571 non-null    float64\n",
      " 9   PromoInterval              571 non-null    object \n",
      "dtypes: float64(5), int64(2), object(3)\n",
      "memory usage: 87.2+ KB\n",
      "None\n",
      "<class 'pandas.core.frame.DataFrame'>\n",
      "RangeIndex: 1017209 entries, 0 to 1017208\n",
      "Data columns (total 9 columns):\n",
      " #   Column         Non-Null Count    Dtype \n",
      "---  ------         --------------    ----- \n",
      " 0   Store          1017209 non-null  int64 \n",
      " 1   DayOfWeek      1017209 non-null  int64 \n",
      " 2   Date           1017209 non-null  object\n",
      " 3   Sales          1017209 non-null  int64 \n",
      " 4   Customers      1017209 non-null  int64 \n",
      " 5   Open           1017209 non-null  int64 \n",
      " 6   Promo          1017209 non-null  int64 \n",
      " 7   StateHoliday   1017209 non-null  object\n",
      " 8   SchoolHoliday  1017209 non-null  int64 \n",
      "dtypes: int64(7), object(2)\n",
      "memory usage: 69.8+ MB\n",
      "None\n",
      "<class 'pandas.core.frame.DataFrame'>\n",
      "RangeIndex: 41088 entries, 0 to 41087\n",
      "Data columns (total 8 columns):\n",
      " #   Column         Non-Null Count  Dtype  \n",
      "---  ------         --------------  -----  \n",
      " 0   Id             41088 non-null  int64  \n",
      " 1   Store          41088 non-null  int64  \n",
      " 2   DayOfWeek      41088 non-null  int64  \n",
      " 3   Date           41088 non-null  object \n",
      " 4   Open           41077 non-null  float64\n",
      " 5   Promo          41088 non-null  int64  \n",
      " 6   StateHoliday   41088 non-null  object \n",
      " 7   SchoolHoliday  41088 non-null  int64  \n",
      "dtypes: float64(1), int64(5), object(2)\n",
      "memory usage: 2.5+ MB\n",
      "None\n"
     ]
    }
   ],
   "source": [
    "print(store.info()) \n",
    "print(train.info())\n",
    "print(test.info())"
   ]
  },
  {
   "attachments": {},
   "cell_type": "markdown",
   "metadata": {},
   "source": [
    "### 1.1 Überlegungen zu den Datensätzen\n",
    "1.1.1 Store\n",
    "- CompetitionDistance (3 null) mit durchschnitt eintragen\n",
    "- CompetitionOpenSinceMonth -> gelöscht\n",
    "- CompetitionOpenSinceYear -> gelöscht\n",
    "- Promo2 -> 0: kein Promo2, \n",
    "            1: Promo2 aktiv -> Promo2SinceWeek, Promo2SinceYear, PromoInterval\n",
    "\n",
    "1.1.2 Train\n",
    "- Date -> Datum; Änderung in Datetime bzw. Jahr, Monat, Tag, Woche, Tag im Jahr, Tag der Woche, Feiertag\n",
    "- StateHoliday -> 0: kein Feiertag, a: Feiertag (Gesetzlich), b: Feiertag (Ostern), c: Feiertag (Christmas); Änderung in 0, 1, 2, 3\n",
    "- SchoolHoliday -> 0: kein Schulferien, 1: Schulferien\n",
    "\n",
    "### 1.2 Data Cleaning"
   ]
  },
  {
   "cell_type": "code",
   "execution_count": 4,
   "metadata": {},
   "outputs": [],
   "source": [
    "store['CompetitionDistance'].fillna(store['CompetitionDistance'].mean(), inplace=True)"
   ]
  },
  {
   "cell_type": "code",
   "execution_count": 5,
   "metadata": {},
   "outputs": [],
   "source": [
    "# drop columns 4 and 5 of store\n",
    "store.drop(store.columns[[4,5]], axis=1, inplace=True)"
   ]
  },
  {
   "cell_type": "code",
   "execution_count": 6,
   "metadata": {},
   "outputs": [
    {
     "data": {
      "text/html": [
       "<div>\n",
       "<style scoped>\n",
       "    .dataframe tbody tr th:only-of-type {\n",
       "        vertical-align: middle;\n",
       "    }\n",
       "\n",
       "    .dataframe tbody tr th {\n",
       "        vertical-align: top;\n",
       "    }\n",
       "\n",
       "    .dataframe thead th {\n",
       "        text-align: right;\n",
       "    }\n",
       "</style>\n",
       "<table border=\"1\" class=\"dataframe\">\n",
       "  <thead>\n",
       "    <tr style=\"text-align: right;\">\n",
       "      <th></th>\n",
       "      <th>Store</th>\n",
       "      <th>StoreType</th>\n",
       "      <th>Assortment</th>\n",
       "      <th>CompetitionDistance</th>\n",
       "      <th>Promo2</th>\n",
       "      <th>Promo2SinceWeek</th>\n",
       "      <th>Promo2SinceYear</th>\n",
       "      <th>PromoInterval</th>\n",
       "    </tr>\n",
       "  </thead>\n",
       "  <tbody>\n",
       "    <tr>\n",
       "      <th>0</th>\n",
       "      <td>1</td>\n",
       "      <td>2</td>\n",
       "      <td>0</td>\n",
       "      <td>1270.0</td>\n",
       "      <td>0</td>\n",
       "      <td>NaN</td>\n",
       "      <td>NaN</td>\n",
       "      <td>NaN</td>\n",
       "    </tr>\n",
       "    <tr>\n",
       "      <th>1</th>\n",
       "      <td>2</td>\n",
       "      <td>0</td>\n",
       "      <td>0</td>\n",
       "      <td>570.0</td>\n",
       "      <td>1</td>\n",
       "      <td>13.0</td>\n",
       "      <td>2010.0</td>\n",
       "      <td>Jan,Apr,Jul,Oct</td>\n",
       "    </tr>\n",
       "    <tr>\n",
       "      <th>2</th>\n",
       "      <td>3</td>\n",
       "      <td>0</td>\n",
       "      <td>0</td>\n",
       "      <td>14130.0</td>\n",
       "      <td>1</td>\n",
       "      <td>14.0</td>\n",
       "      <td>2011.0</td>\n",
       "      <td>Jan,Apr,Jul,Oct</td>\n",
       "    </tr>\n",
       "    <tr>\n",
       "      <th>3</th>\n",
       "      <td>4</td>\n",
       "      <td>2</td>\n",
       "      <td>2</td>\n",
       "      <td>620.0</td>\n",
       "      <td>0</td>\n",
       "      <td>NaN</td>\n",
       "      <td>NaN</td>\n",
       "      <td>NaN</td>\n",
       "    </tr>\n",
       "    <tr>\n",
       "      <th>4</th>\n",
       "      <td>5</td>\n",
       "      <td>0</td>\n",
       "      <td>0</td>\n",
       "      <td>29910.0</td>\n",
       "      <td>0</td>\n",
       "      <td>NaN</td>\n",
       "      <td>NaN</td>\n",
       "      <td>NaN</td>\n",
       "    </tr>\n",
       "  </tbody>\n",
       "</table>\n",
       "</div>"
      ],
      "text/plain": [
       "   Store  StoreType  Assortment  CompetitionDistance  Promo2  Promo2SinceWeek  \\\n",
       "0      1          2           0               1270.0       0              NaN   \n",
       "1      2          0           0                570.0       1             13.0   \n",
       "2      3          0           0              14130.0       1             14.0   \n",
       "3      4          2           2                620.0       0              NaN   \n",
       "4      5          0           0              29910.0       0              NaN   \n",
       "\n",
       "   Promo2SinceYear    PromoInterval  \n",
       "0              NaN              NaN  \n",
       "1           2010.0  Jan,Apr,Jul,Oct  \n",
       "2           2011.0  Jan,Apr,Jul,Oct  \n",
       "3              NaN              NaN  \n",
       "4              NaN              NaN  "
      ]
     },
     "execution_count": 6,
     "metadata": {},
     "output_type": "execute_result"
    }
   ],
   "source": [
    "# map strings to categorical values\n",
    "store['StoreType'] = store['StoreType'].map({'a':0, 'b':1, 'c':2, 'd':3})\n",
    "store['Assortment'] = store['Assortment'].map({'a':0, 'b':1, 'c':2})\n",
    "store.head()"
   ]
  },
  {
   "cell_type": "code",
   "execution_count": 7,
   "metadata": {},
   "outputs": [],
   "source": [
    "from sklearn.preprocessing import LabelEncoder\n",
    "le = LabelEncoder()\n",
    "store['PromoInterval'] = le.fit_transform(store['PromoInterval'].astype(str))\n",
    "store['Promo2SinceWeek'] = le.fit_transform(store['Promo2SinceWeek'].astype(str))\n",
    "store['Promo2SinceYear'] = le.fit_transform(store['Promo2SinceYear'].astype(str))"
   ]
  },
  {
   "cell_type": "code",
   "execution_count": 8,
   "metadata": {},
   "outputs": [
    {
     "data": {
      "text/html": [
       "<div>\n",
       "<style scoped>\n",
       "    .dataframe tbody tr th:only-of-type {\n",
       "        vertical-align: middle;\n",
       "    }\n",
       "\n",
       "    .dataframe tbody tr th {\n",
       "        vertical-align: top;\n",
       "    }\n",
       "\n",
       "    .dataframe thead th {\n",
       "        text-align: right;\n",
       "    }\n",
       "</style>\n",
       "<table border=\"1\" class=\"dataframe\">\n",
       "  <thead>\n",
       "    <tr style=\"text-align: right;\">\n",
       "      <th></th>\n",
       "      <th>Store</th>\n",
       "      <th>StoreType</th>\n",
       "      <th>Assortment</th>\n",
       "      <th>CompetitionDistance</th>\n",
       "      <th>Promo2</th>\n",
       "      <th>Promo2SinceWeek</th>\n",
       "      <th>Promo2SinceYear</th>\n",
       "      <th>PromoInterval</th>\n",
       "    </tr>\n",
       "  </thead>\n",
       "  <tbody>\n",
       "    <tr>\n",
       "      <th>0</th>\n",
       "      <td>1</td>\n",
       "      <td>2</td>\n",
       "      <td>0</td>\n",
       "      <td>1270.0</td>\n",
       "      <td>0</td>\n",
       "      <td>24</td>\n",
       "      <td>7</td>\n",
       "      <td>3</td>\n",
       "    </tr>\n",
       "    <tr>\n",
       "      <th>1</th>\n",
       "      <td>2</td>\n",
       "      <td>0</td>\n",
       "      <td>0</td>\n",
       "      <td>570.0</td>\n",
       "      <td>1</td>\n",
       "      <td>2</td>\n",
       "      <td>1</td>\n",
       "      <td>1</td>\n",
       "    </tr>\n",
       "    <tr>\n",
       "      <th>2</th>\n",
       "      <td>3</td>\n",
       "      <td>0</td>\n",
       "      <td>0</td>\n",
       "      <td>14130.0</td>\n",
       "      <td>1</td>\n",
       "      <td>3</td>\n",
       "      <td>2</td>\n",
       "      <td>1</td>\n",
       "    </tr>\n",
       "    <tr>\n",
       "      <th>3</th>\n",
       "      <td>4</td>\n",
       "      <td>2</td>\n",
       "      <td>2</td>\n",
       "      <td>620.0</td>\n",
       "      <td>0</td>\n",
       "      <td>24</td>\n",
       "      <td>7</td>\n",
       "      <td>3</td>\n",
       "    </tr>\n",
       "    <tr>\n",
       "      <th>4</th>\n",
       "      <td>5</td>\n",
       "      <td>0</td>\n",
       "      <td>0</td>\n",
       "      <td>29910.0</td>\n",
       "      <td>0</td>\n",
       "      <td>24</td>\n",
       "      <td>7</td>\n",
       "      <td>3</td>\n",
       "    </tr>\n",
       "  </tbody>\n",
       "</table>\n",
       "</div>"
      ],
      "text/plain": [
       "   Store  StoreType  Assortment  CompetitionDistance  Promo2  Promo2SinceWeek  \\\n",
       "0      1          2           0               1270.0       0               24   \n",
       "1      2          0           0                570.0       1                2   \n",
       "2      3          0           0              14130.0       1                3   \n",
       "3      4          2           2                620.0       0               24   \n",
       "4      5          0           0              29910.0       0               24   \n",
       "\n",
       "   Promo2SinceYear  PromoInterval  \n",
       "0                7              3  \n",
       "1                1              1  \n",
       "2                2              1  \n",
       "3                7              3  \n",
       "4                7              3  "
      ]
     },
     "execution_count": 8,
     "metadata": {},
     "output_type": "execute_result"
    }
   ],
   "source": [
    "store.head()"
   ]
  },
  {
   "cell_type": "code",
   "execution_count": 9,
   "metadata": {},
   "outputs": [
    {
     "data": {
      "text/html": [
       "<div>\n",
       "<style scoped>\n",
       "    .dataframe tbody tr th:only-of-type {\n",
       "        vertical-align: middle;\n",
       "    }\n",
       "\n",
       "    .dataframe tbody tr th {\n",
       "        vertical-align: top;\n",
       "    }\n",
       "\n",
       "    .dataframe thead th {\n",
       "        text-align: right;\n",
       "    }\n",
       "</style>\n",
       "<table border=\"1\" class=\"dataframe\">\n",
       "  <thead>\n",
       "    <tr style=\"text-align: right;\">\n",
       "      <th></th>\n",
       "      <th>Store</th>\n",
       "      <th>DayOfWeek</th>\n",
       "      <th>Date</th>\n",
       "      <th>Sales</th>\n",
       "      <th>Customers</th>\n",
       "      <th>Open</th>\n",
       "      <th>Promo</th>\n",
       "      <th>StateHoliday</th>\n",
       "      <th>SchoolHoliday</th>\n",
       "    </tr>\n",
       "  </thead>\n",
       "  <tbody>\n",
       "    <tr>\n",
       "      <th>0</th>\n",
       "      <td>1</td>\n",
       "      <td>5</td>\n",
       "      <td>2015-07-31</td>\n",
       "      <td>5263</td>\n",
       "      <td>555</td>\n",
       "      <td>1</td>\n",
       "      <td>1</td>\n",
       "      <td>0</td>\n",
       "      <td>1</td>\n",
       "    </tr>\n",
       "    <tr>\n",
       "      <th>1</th>\n",
       "      <td>2</td>\n",
       "      <td>5</td>\n",
       "      <td>2015-07-31</td>\n",
       "      <td>6064</td>\n",
       "      <td>625</td>\n",
       "      <td>1</td>\n",
       "      <td>1</td>\n",
       "      <td>0</td>\n",
       "      <td>1</td>\n",
       "    </tr>\n",
       "    <tr>\n",
       "      <th>2</th>\n",
       "      <td>3</td>\n",
       "      <td>5</td>\n",
       "      <td>2015-07-31</td>\n",
       "      <td>8314</td>\n",
       "      <td>821</td>\n",
       "      <td>1</td>\n",
       "      <td>1</td>\n",
       "      <td>0</td>\n",
       "      <td>1</td>\n",
       "    </tr>\n",
       "    <tr>\n",
       "      <th>3</th>\n",
       "      <td>4</td>\n",
       "      <td>5</td>\n",
       "      <td>2015-07-31</td>\n",
       "      <td>13995</td>\n",
       "      <td>1498</td>\n",
       "      <td>1</td>\n",
       "      <td>1</td>\n",
       "      <td>0</td>\n",
       "      <td>1</td>\n",
       "    </tr>\n",
       "    <tr>\n",
       "      <th>4</th>\n",
       "      <td>5</td>\n",
       "      <td>5</td>\n",
       "      <td>2015-07-31</td>\n",
       "      <td>4822</td>\n",
       "      <td>559</td>\n",
       "      <td>1</td>\n",
       "      <td>1</td>\n",
       "      <td>0</td>\n",
       "      <td>1</td>\n",
       "    </tr>\n",
       "  </tbody>\n",
       "</table>\n",
       "</div>"
      ],
      "text/plain": [
       "   Store  DayOfWeek        Date  Sales  Customers  Open  Promo StateHoliday  \\\n",
       "0      1          5  2015-07-31   5263        555     1      1            0   \n",
       "1      2          5  2015-07-31   6064        625     1      1            0   \n",
       "2      3          5  2015-07-31   8314        821     1      1            0   \n",
       "3      4          5  2015-07-31  13995       1498     1      1            0   \n",
       "4      5          5  2015-07-31   4822        559     1      1            0   \n",
       "\n",
       "   SchoolHoliday  \n",
       "0              1  \n",
       "1              1  \n",
       "2              1  \n",
       "3              1  \n",
       "4              1  "
      ]
     },
     "execution_count": 9,
     "metadata": {},
     "output_type": "execute_result"
    }
   ],
   "source": [
    "train.head()"
   ]
  },
  {
   "cell_type": "code",
   "execution_count": 10,
   "metadata": {},
   "outputs": [
    {
     "name": "stdout",
     "output_type": "stream",
     "text": [
      "   Store  DayOfWeek        Date  Sales  Customers  Open  Promo  StateHoliday  \\\n",
      "0      1          5  2015-07-31   5263        555     1      1             0   \n",
      "1      2          5  2015-07-31   6064        625     1      1             0   \n",
      "2      3          5  2015-07-31   8314        821     1      1             0   \n",
      "3      4          5  2015-07-31  13995       1498     1      1             0   \n",
      "4      5          5  2015-07-31   4822        559     1      1             0   \n",
      "\n",
      "   SchoolHoliday  \n",
      "0              1  \n",
      "1              1  \n",
      "2              1  \n",
      "3              1  \n",
      "4              1  \n",
      "   Id  Store  DayOfWeek        Date  Open  Promo  StateHoliday  SchoolHoliday\n",
      "0   1      1          4  2015-09-17     1      1             0              0\n",
      "1   2      3          4  2015-09-17     1      1             0              0\n",
      "2   3      7          4  2015-09-17     1      1             0              0\n",
      "3   4      8          4  2015-09-17     1      1             0              0\n",
      "4   5      9          4  2015-09-17     1      1             0              0\n"
     ]
    }
   ],
   "source": [
    "train['StateHoliday'] = le.fit_transform(train['StateHoliday'].astype(str))\n",
    "print(train.head())\n",
    "\n",
    "test['StateHoliday'] = le.fit_transform(test['StateHoliday'].astype(str))\n",
    "test['Open'] = le.fit_transform(test['Open'].astype(str))\n",
    "print(test.head())"
   ]
  },
  {
   "attachments": {},
   "cell_type": "markdown",
   "metadata": {},
   "source": [
    "Feature Engineering: Date bei beiden in die Einzelteile aufteilen"
   ]
  },
  {
   "cell_type": "code",
   "execution_count": 11,
   "metadata": {},
   "outputs": [],
   "source": [
    "# split date into year, month, day\n",
    "train['Date'] = pd.to_datetime(train['Date'])\n",
    "train['Date_Year'] = train['Date'].dt.year\n",
    "train['Date_Month'] = train['Date'].dt.month\n",
    "train['Date_Day'] = train['Date'].dt.day\n",
    "train = train.drop('Date', axis=1)\n",
    "\n",
    "# split date into year, month, day\n",
    "test['Date'] = pd.to_datetime(test['Date'])\n",
    "test['Date_Year'] = test['Date'].dt.year\n",
    "test['Date_Month'] = test['Date'].dt.month\n",
    "test['Date_Day'] = test['Date'].dt.day\n",
    "test = test.drop('Date', axis=1)\n"
   ]
  },
  {
   "cell_type": "code",
   "execution_count": 12,
   "metadata": {},
   "outputs": [
    {
     "name": "stdout",
     "output_type": "stream",
     "text": [
      "   Store  DayOfWeek  Sales  Customers  Open  Promo  StateHoliday  \\\n",
      "0      1          5   5263        555     1      1             0   \n",
      "1      2          5   6064        625     1      1             0   \n",
      "2      3          5   8314        821     1      1             0   \n",
      "3      4          5  13995       1498     1      1             0   \n",
      "4      5          5   4822        559     1      1             0   \n",
      "\n",
      "   SchoolHoliday  Date_Year  Date_Month  Date_Day  \n",
      "0              1       2015           7        31  \n",
      "1              1       2015           7        31  \n",
      "2              1       2015           7        31  \n",
      "3              1       2015           7        31  \n",
      "4              1       2015           7        31  \n",
      "   Id  Store  DayOfWeek  Open  Promo  StateHoliday  SchoolHoliday  Date_Year  \\\n",
      "0   1      1          4     1      1             0              0       2015   \n",
      "1   2      3          4     1      1             0              0       2015   \n",
      "2   3      7          4     1      1             0              0       2015   \n",
      "3   4      8          4     1      1             0              0       2015   \n",
      "4   5      9          4     1      1             0              0       2015   \n",
      "\n",
      "   Date_Month  Date_Day  \n",
      "0           9        17  \n",
      "1           9        17  \n",
      "2           9        17  \n",
      "3           9        17  \n",
      "4           9        17  \n"
     ]
    }
   ],
   "source": [
    "print(train.head())\n",
    "print(test.head())"
   ]
  },
  {
   "attachments": {},
   "cell_type": "markdown",
   "metadata": {},
   "source": [
    "for later use\n",
    "```# merge year, month, day to date\n",
    "train['Date'] = train['Date_Year'].map(str) + '-' + train['Date_Month'].map(str) + '-' + train['Date_Day'].map(str)```"
   ]
  },
  {
   "cell_type": "code",
   "execution_count": 13,
   "metadata": {},
   "outputs": [],
   "source": [
    "# merge train and store assortments\n",
    "train = pd.merge(train, \n",
    "                 store[['StoreType', 'Assortment', 'PromoInterval', 'Promo2SinceWeek', 'Promo2SinceYear']],\n",
    "                 left_on='Store', \n",
    "                 right_index=True)\n",
    "test = pd.merge(test, \n",
    "                store[['StoreType', 'Assortment', 'PromoInterval', 'Promo2SinceWeek', 'Promo2SinceYear']],\n",
    "                left_on='Store', \n",
    "                right_index=True)"
   ]
  },
  {
   "attachments": {},
   "cell_type": "markdown",
   "metadata": {},
   "source": [
    "## 2. Exploratory Data Analysis"
   ]
  },
  {
   "cell_type": "code",
   "execution_count": 14,
   "metadata": {},
   "outputs": [
    {
     "data": {
      "image/png": "[encoded data removed]",
      "text/plain": [
       "<Figure size 640x480 with 1 Axes>"
      ]
     },
     "metadata": {},
     "output_type": "display_data"
    }
   ],
   "source": [
    "sns.barplot(x='DayOfWeek', y='Sales', data=train)\n",
    "plt.show()"
   ]
  },
  {
   "cell_type": "code",
   "execution_count": 15,
   "metadata": {},
   "outputs": [
    {
     "data": {
      "image/png": "[encoded data removed]",
      "text/plain": [
       "<Figure size 640x480 with 1 Axes>"
      ]
     },
     "metadata": {},
     "output_type": "display_data"
    }
   ],
   "source": [
    "sns.barplot(x='DayOfWeek', y='Sales', hue='StoreType', data=train)\n",
    "plt.show()"
   ]
  },
  {
   "cell_type": "code",
   "execution_count": 16,
   "metadata": {},
   "outputs": [
    {
     "data": {
      "image/png": "[encoded data removed]",
      "text/plain": [
       "<Figure size 640x480 with 1 Axes>"
      ]
     },
     "metadata": {},
     "output_type": "display_data"
    }
   ],
   "source": [
    "sns.barplot(x='Date_Month', y='Sales', data=train)\n",
    "plt.show()"
   ]
  },
  {
   "attachments": {},
   "cell_type": "markdown",
   "metadata": {},
   "source": [
    "-> Die Umsätze sind im Dezember und Juli durschnittlich höher als im Rest des Jahres."
   ]
  },
  {
   "cell_type": "code",
   "execution_count": 17,
   "metadata": {},
   "outputs": [
    {
     "data": {
      "image/png": "[encoded data removed]",
      "text/plain": [
       "<Figure size 640x480 with 1 Axes>"
      ]
     },
     "metadata": {},
     "output_type": "display_data"
    }
   ],
   "source": [
    "sns.barplot(x='Date_Day', y='Sales', data=train)\n",
    "plt.show()"
   ]
  },
  {
   "cell_type": "code",
   "execution_count": 18,
   "metadata": {},
   "outputs": [
    {
     "data": {
      "image/png": "[encoded data removed]",
      "text/plain": [
       "<Figure size 640x480 with 2 Axes>"
      ]
     },
     "metadata": {},
     "output_type": "display_data"
    }
   ],
   "source": [
    "corr = train.corr()\n",
    "sns.heatmap(corr,\n",
    "            xticklabels=corr.columns.values,\n",
    "            yticklabels=corr.columns.values)\n",
    "plt.show()"
   ]
  },
  {
   "attachments": {},
   "cell_type": "markdown",
   "metadata": {},
   "source": [
    "> Sales, Customers, Open, Promo, StateHoliday, SchoolHoliday haben eine hohe bis mäßig positive Korrelation mit Sales.\n",
    "\n",
    "> Der Wochentag korreliert negativ mit Sales, Customers, Open, Promo, StateHoliday, SchoolHoliday."
   ]
  },
  {
   "attachments": {},
   "cell_type": "markdown",
   "metadata": {},
   "source": [
    "## 3. Modelling"
   ]
  },
  {
   "attachments": {},
   "cell_type": "markdown",
   "metadata": {},
   "source": [
    "scaling notwendig?\n",
    "```X = train.drop(['Sales', 'Customers'], axis=1)\n",
    "y = train['Sales']\n",
    "X_train, X_test, y_train, y_test = train_test_split(X, y, test_size=0.2, random_state=42)\n",
    "\n",
    "scaler = StandardScaler()\n",
    "X_train = scaler.fit_transform(X_train)\n",
    "X_test = scaler.transform(X_test)\n",
    "```"
   ]
  },
  {
   "cell_type": "code",
   "execution_count": 19,
   "metadata": {},
   "outputs": [
    {
     "name": "stdout",
     "output_type": "stream",
     "text": [
      "(813013, 14)\n",
      "(203254, 14)\n",
      "(813013,)\n",
      "(203254,)\n"
     ]
    }
   ],
   "source": [
    "X_train, X_test, y_train, y_test = train_test_split(train.drop(['Sales', 'Customers'], axis=1),\n",
    "                                                    train['Sales'],\n",
    "                                                    test_size=0.2,\n",
    "                                                    random_state=42)\n",
    "\n",
    "print(X_train.shape)\n",
    "print(X_test.shape)\n",
    "print(y_train.shape)\n",
    "print(y_test.shape)"
   ]
  },
  {
   "cell_type": "code",
   "execution_count": 20,
   "metadata": {},
   "outputs": [],
   "source": [
    "def evaluate(model, test_features, test_labels):\n",
    "    predictions = model.predict(test_features)\n",
    "    errors = abs(predictions - test_labels)\n",
    "    \n",
    "    print('Average Error: {:0.4f} degrees'.format(np.mean(errors)))\n",
    "    print('RMSE = {:0.2f}'.format(np.sqrt(mean_squared_error(test_labels, predictions))))\n",
    "\n",
    "\n",
    "def train_evaluate(model, X_train, y_train, X_test, y_test):\n",
    "    model.fit(X_train, y_train)\n",
    "    print('Training set score: {:.2f}'.format(model.score(X_train, y_train)))\n",
    "    print('Test set score: {:.2f}'.format(model.score(X_test, y_test)))\n",
    "    evaluate(model, X_test, y_test)\n",
    "    \n",
    "    return model"
   ]
  },
  {
   "cell_type": "code",
   "execution_count": 21,
   "metadata": {},
   "outputs": [],
   "source": [
    "# defining a function to plot feature importance\n",
    "def plot_feature_importance(model):\n",
    "    n_features = X_train.shape[1]\n",
    "    plt.figure(figsize=(8,8))\n",
    "    plt.barh(range(n_features), model.feature_importances_, align='center') \n",
    "    plt.yticks(np.arange(n_features), X_train.columns.values) \n",
    "    plt.xlabel(\"Feature importance\")\n",
    "    plt.ylabel(\"Feature\")\n",
    "    plt.ylim(-1, n_features)\n",
    "    plt.show()"
   ]
  },
  {
   "attachments": {},
   "cell_type": "markdown",
   "metadata": {},
   "source": [
    "### 3.1 k-Nearest Neighbors (TODO: Scaling)"
   ]
  },
  {
   "cell_type": "code",
   "execution_count": null,
   "metadata": {},
   "outputs": [],
   "source": [
    "# scale data\n",
    "scaler = StandardScaler()\n",
    "X_train_scaled = scaler.fit_transform(X_train)\n",
    "X_test_scaled = scaler.transform(X_test)\n",
    "y_train_scaled = scaler.fit_transform(y_train.values.reshape(-1, 1))\n",
    "y_test_scaled = scaler.transform(y_test.values.reshape(-1, 1))"
   ]
  },
  {
   "cell_type": "code",
   "execution_count": null,
   "metadata": {},
   "outputs": [],
   "source": [
    "# create a k-nearest neighbors regressor using tqdm to show progress\n",
    "knn = KNeighborsRegressor(n_neighbors=3)\n",
    "\n",
    "# train and evaluate the model\n",
    "knn = train_evaluate(knn, X_train, y_train, X_test, y_test)"
   ]
  },
  {
   "attachments": {},
   "cell_type": "markdown",
   "metadata": {},
   "source": [
    "Mit skalierten Daten ist die Performance des KNN eindeutig geringer, als das Training mit unskalierten Daten."
   ]
  },
  {
   "attachments": {},
   "cell_type": "markdown",
   "metadata": {},
   "source": [
    "### 3.2 Logistic Regression"
   ]
  },
  {
   "cell_type": "code",
   "execution_count": null,
   "metadata": {},
   "outputs": [],
   "source": [
    "# create a logistic regression model\n",
    "lr = LinearRegression()\n",
    "\n",
    "# train and evaluate the model\n",
    "lr = train_evaluate(lr, X_train, y_train, X_test, y_test)"
   ]
  },
  {
   "attachments": {},
   "cell_type": "markdown",
   "metadata": {},
   "source": [
    "### 3.3 Random Forest"
   ]
  },
  {
   "cell_type": "code",
   "execution_count": null,
   "metadata": {},
   "outputs": [],
   "source": [
    "# create a random forest regressor\n",
    "rf = RandomForestRegressor(n_estimators=5, random_state=42)\n",
    "\n",
    "# train and evaluate the model\n",
    "rf = train_evaluate(rf, X_train, y_train, X_test, y_test)\n",
    "\n",
    "# plot feature importance\n",
    "plot_feature_importance(rf)"
   ]
  },
  {
   "attachments": {},
   "cell_type": "markdown",
   "metadata": {},
   "source": [
    "### 3.4 Decision Tree"
   ]
  },
  {
   "cell_type": "code",
   "execution_count": null,
   "metadata": {},
   "outputs": [],
   "source": [
    "# create a decision tree regressor\n",
    "dt = DecisionTreeRegressor(random_state=42)\n",
    "\n",
    "# train and evaluate the model\n",
    "dt = train_evaluate(dt, X_train, y_train, X_test, y_test)\n",
    "\n",
    "# plot feature importance\n",
    "plot_feature_importance(dt)"
   ]
  },
  {
   "attachments": {},
   "cell_type": "markdown",
   "metadata": {},
   "source": [
    "### 3.5 AdaBoost"
   ]
  },
  {
   "cell_type": "code",
   "execution_count": null,
   "metadata": {},
   "outputs": [],
   "source": [
    "# create an ada boost regressor\n",
    "ada = AdaBoostRegressor(random_state=42)\n",
    "\n",
    "# train and evaluate the model\n",
    "ada = train_evaluate(ada, X_train, y_train, X_test, y_test)\n",
    "\n",
    "# plot feature importance\n",
    "plot_feature_importance(ada)"
   ]
  },
  {
   "attachments": {},
   "cell_type": "markdown",
   "metadata": {},
   "source": [
    "### 3.6 Support Vector Machine"
   ]
  },
  {
   "cell_type": "code",
   "execution_count": null,
   "metadata": {},
   "outputs": [],
   "source": [
    "# create a support vector regressor\n",
    "svr = SVR(verbose=True, max_iter=1000, tol=0.1, C=1.0, epsilon=0.2)\n",
    "\n",
    "# train and evaluate the model\n",
    "svr = train_evaluate(svr, X_train, y_train, X_test, y_test)"
   ]
  },
  {
   "attachments": {},
   "cell_type": "markdown",
   "metadata": {},
   "source": [
    "Mit skalierten Daten crasht mir der Kernel, weshalb auf eine Skalierung verzichtet wird."
   ]
  },
  {
   "attachments": {},
   "cell_type": "markdown",
   "metadata": {},
   "source": [
    "### 3.7 Gradient Boost"
   ]
  },
  {
   "cell_type": "code",
   "execution_count": null,
   "metadata": {},
   "outputs": [],
   "source": [
    "# create a gradient boosting regressor\n",
    "gb = GradientBoostingRegressor(random_state=42)\n",
    "\n",
    "# train and evaluate the model\n",
    "gb = train_evaluate(gb, X_train, y_train, X_test, y_test)\n",
    "\n",
    "# plot feature importance\n",
    "plot_feature_importance(gb)"
   ]
  },
  {
   "attachments": {},
   "cell_type": "markdown",
   "metadata": {},
   "source": [
    "### 3.8 XGBoost"
   ]
  },
  {
   "cell_type": "code",
   "execution_count": null,
   "metadata": {},
   "outputs": [],
   "source": [
    "# create a xgboost regressor\n",
    "xgb = xgboost.XGBRegressor(random_state=42)\n",
    "\n",
    "# train and evaluate the model\n",
    "xgb = train_evaluate(xgb, X_train, y_train, X_test, y_test)\n",
    "\n",
    "# plot feature importance\n",
    "plot_feature_importance(xgb)"
   ]
  },
  {
   "attachments": {},
   "cell_type": "markdown",
   "metadata": {},
   "source": [
    "## 4. Hyperparameter Tuning"
   ]
  },
  {
   "attachments": {},
   "cell_type": "markdown",
   "metadata": {},
   "source": [
    "Zuvor wurden erste Einblicke in die Feature Importance vorgenommen. Bei den Sales der Rossmann stores spielt \"Open\" selbstverständlich eine Schlüsselrolle. Wäre der einzelne Store geschlossen, gäbe es auch keinen Umsatz. Durchschnittlich spielt \"Promo\" eine - wenn auch geringe - Rolle. \"StateHoliday\" und \"SchoolHoliday\" üben hingegen keinen Einfluss auf den Umsatz aus. Bei AdaBoost und dem Decision Tree Model hat der Store Type einen vergleichsweise hohen Stellenwert. Um die Feature Importance abschließend zu bewerten, werden im nächsten Schritt die Hyperparameter einzelner Modelle optimiert:\n",
    "\n",
    "Bevor dies geschieht, wurde die Performance der Modelle mit Standardwerten gemessen. Die Ergebnisse sind in der folgenden Tabelle zusammengefasst.\n",
    "Die performantesten Modelle werden mit GridSearchCV optimiert, erkennbar an dem ☑ in der Spalte \"Hyperparameter Tuning?\".\n",
    "\n",
    "| Model      | Performance | Hyperparameter Tuning?     |\n",
    "| ---:        |    :----   |          :---: |\n",
    "| k=3-Nearest Neighbors      | Training set score: 0.87<br>Test set score: 0.70<br>Average Error: 1403.7431 degrees.<br>RMSE = 2123.27| ☑ |\n",
    "| Logistic Regression   |Training set score: 0.54<br>Test set score: 0.54<br>Average Error: 1773.5748 degrees.<br>RMSE = 2613.32|ist im Mittelfeld, daher (vorerst nicht)|\n",
    "| Random Forest   |Training set score: 0.97<br>Test set score: 0.86<br>Average Error: 802.4904 degrees.<br>RMSE = 1458.75| ☑ |\n",
    "| Decision Tree   |Training set score: 1.00<br>Test set score: 0.76<br>Average Error: 973.2167 degrees.<br>RMSE = 1901.96| ☑ |\n",
    "| AdaBoost   |Training set score: -0.29<br>Test set score: -0.29<br>Average Error: 3517.9819 degrees.<br>RMSE = 4371.52|bildet das Schlusslicht|\n",
    "| Support Vector Machine   |Training set score: -0.42<br>Test set score: -0.42<br>Average Error: 3674.5290 degrees.<br>RMSE = 4587.11|bildet das Schlusslicht|\n",
    "| Gradient Boost   |Training set score: 0.63<br>Test set score: 0.63<br>Average Error: 1589.0602 degrees.<br>RMSE = 2330.91|ist im Mittelfeld, daher (vorerst nicht)|\n",
    "| XGBoost   |Training set score: 0.89<br>Test set score: 0.89<br>Average Error: 903.4969 degrees.<br>RMSE = 1284.96| ☑ |\n",
    "\n",
    "Nach der Optimierung soll die Performance der einzelnen Modelle mit den Testdaten gemessen werden. Außerdem wird die Feature Importance der einzelnen Modelle nochmals betrachtet. "
   ]
  },
  {
   "attachments": {},
   "cell_type": "markdown",
   "metadata": {},
   "source": [
    "### 4.1 Tuning k-Nearest Neighbors"
   ]
  },
  {
   "cell_type": "code",
   "execution_count": null,
   "metadata": {},
   "outputs": [],
   "source": [
    "# parameter tuning for knn with tqdm\n",
    "# create a k-nearest neighbors regressor\n",
    "knn = KNeighborsRegressor()\n",
    "\n",
    "# create a dictionary of all values we want to test for n_neighbors\n",
    "param_grid = {'n_neighbors': np.arange(1, 15)}\n",
    "\n",
    "# use gridsearch to test all values for n_neighbors\n",
    "knn_gscv = GridSearchCV(knn, param_grid, cv=5, verbose=1)\n",
    "\n",
    "# fit model to data\n",
    "knn_gscv.fit(X_train, y_train)\n",
    "\n",
    "# check top performing n_neighbors value\n",
    "pprint(knn_gscv.best_params_)\n",
    "\n",
    "#plot the value of K for KNN (x-axis) versus the cross-validated accuracy (y-axis)\n",
    "k_range = range(1, 15)\n",
    "k_scores = []\n",
    "for k in tqdm(k_range):\n",
    "    knn = KNeighborsRegressor(n_neighbors=k)\n",
    "    scores = cross_val_score(knn, X_train, y_train, cv=10, scoring='neg_mean_squared_error')\n",
    "    k_scores.append(scores.mean())\n",
    "\n",
    "plt.plot(k_range, k_scores)\n",
    "plt.xlabel('Value of K for KNN')\n",
    "plt.ylabel('Cross-Validated MSE')\n",
    "plt.show()"
   ]
  },
  {
   "attachments": {},
   "cell_type": "markdown",
   "metadata": {},
   "source": [
    "best neighbors: 2"
   ]
  },
  {
   "cell_type": "code",
   "execution_count": null,
   "metadata": {},
   "outputs": [],
   "source": [
    "# create a k-nearest neighbors regressor using the best parameter\n",
    "knn = KNeighborsRegressor(n_neighbors=2)\n",
    "\n",
    "# train and evaluate the model\n",
    "knn = train_evaluate(knn, X_train, y_train, X_test, y_test)"
   ]
  },
  {
   "attachments": {},
   "cell_type": "markdown",
   "metadata": {},
   "source": [
    "### 4.2 Tuning the Random Forest"
   ]
  },
  {
   "attachments": {},
   "cell_type": "markdown",
   "metadata": {},
   "source": [
    "``` # parameter tuning for random forest with tqdm\n",
    "from tqdm import tqdm\n",
    "from sklearn.metrics import classification_report\n",
    "from sklearn.model_selection import GridSearchCV, RandomizedSearchCV\n",
    "from sklearn.model_selection import cross_val_score\n",
    "\n",
    "# create a random forest regressor\n",
    "rf = RandomForestRegressor(random_state=42)\n",
    "\n",
    "# create a dictionary of all values we want to test for n_estimators\n",
    "param_grid = {'n_estimators': [50, 100, 200],\n",
    "              'max_features': ['sqrt', 'log2', 'None'],\n",
    "              'max_depth': [9, 12, 15],\n",
    "              'max_leaf_nodes': [9, 12, 15]}\n",
    "\n",
    "# use gridsearch to test all values for n_estimators\n",
    "rf_gscv = GridSearchCV(rf, param_grid, cv=5, verbose=2)\n",
    "\n",
    "# fit model to data\n",
    "rf_gscv.fit(X_train, y_train)\n",
    "\n",
    "# check top performing n_estimators value\n",
    "pprint(rf_gscv.best_params_)"
   ]
  },
  {
   "attachments": {},
   "cell_type": "markdown",
   "metadata": {},
   "source": [
    "```\n",
    "/opt/homebrew/lib/python3.10/site-packages/sklearn/model_selection/_validation.py:378: FitFailedWarning: \n",
    "135 fits failed out of a total of 405.\n",
    "The score on these train-test partitions for these parameters will be set to nan.\n",
    "If these failures are not expected, you can try to debug them by setting error_score='raise'.\n",
    "\n",
    "Below are more details about the failures:\n",
    "--------------------------------------------------------------------------------\n",
    "135 fits failed with the following error:\n",
    "Traceback (most recent call last):\n",
    "  File \"/opt/homebrew/lib/python3.10/site-packages/sklearn/model_selection/_validation.py\", line 686, in _fit_and_score\n",
    "    estimator.fit(X_train, y_train, **fit_params)\n",
    "  File \"/opt/homebrew/lib/python3.10/site-packages/sklearn/ensemble/_forest.py\", line 341, in fit\n",
    "    self._validate_params()\n",
    "  File \"/opt/homebrew/lib/python3.10/site-packages/sklearn/base.py\", line 570, in _validate_params\n",
    "    validate_parameter_constraints(\n",
    "  File \"/opt/homebrew/lib/python3.10/site-packages/sklearn/utils/_param_validation.py\", line 97, in validate_parameter_constraints\n",
    "    raise InvalidParameterError(\n",
    "sklearn.utils._param_validation.InvalidParameterError: The 'max_features' parameter of RandomForestRegressor must be an int in the range [1, inf), a float in the range (0.0, 1.0], a str among {'log2', 'auto' (deprecated), 'sqrt'} or None. Got 'None' instead.\n",
    "\n",
    "  warnings.warn(some_fits_failed_message, FitFailedWarning)\n",
    "/opt/homebrew/lib/python3.10/site-packages/sklearn/model_selection/_search.py:953: UserWarning: One or more of the test scores are non-finite: [0.5325943  0.53726969 0.5391543  0.54620291 0.54804783 0.54938272\n",
    " 0.5541346  0.55579528 0.55641082 0.5325943  0.53726969 0.5391543\n",
    " 0.54620291 0.54804783 0.54938272 0.5541346  0.55579528 0.55641082\n",
    "        nan        nan        nan        nan        nan        nan\n",
    "        nan        nan        nan 0.5325943  0.53726969 0.5391543\n",
    " 0.54620291 0.54804783 0.54938692 0.55398947 0.5557231  0.55645482\n",
    " 0.5325943  0.53726969 0.5391543  0.54620291 0.54804783 0.54938692\n",
    " 0.55398947 0.5557231  0.55645482        nan        nan        nan\n",
    "        nan        nan        nan        nan        nan        nan\n",
    " 0.5325943  0.53726969 0.5391543  0.54620291 0.54804783 0.54938692\n",
    " 0.55398947 0.5557231  0.55645482 0.5325943  0.53726969 0.5391543\n",
    " 0.54620291 0.54804783 0.54938692 0.55398947 0.5557231  0.55645482\n",
    "        nan        nan        nan        nan        nan        nan\n",
    "        nan        nan        nan]\n",
    "  warnings.warn(\n",
    "{'max_depth': 12,\n",
    " 'max_features': 'sqrt',\n",
    " 'max_leaf_nodes': 15,\n",
    " 'n_estimators': 200}\n",
    " ```"
   ]
  },
  {
   "cell_type": "code",
   "execution_count": null,
   "metadata": {},
   "outputs": [],
   "source": [
    "# create a random forest regressor using the best parameter\n",
    "rf = RandomForestRegressor(n_estimators=200, max_features='sqrt', max_depth=12, max_leaf_nodes=15, random_state=42)\n",
    "\n",
    "# train and evaluate the model\n",
    "rf = train_evaluate(rf, X_train, y_train, X_test, y_test)\n",
    "\n",
    "# plot feature importance\n",
    "plot_feature_importance(rf)"
   ]
  },
  {
   "attachments": {},
   "cell_type": "markdown",
   "metadata": {},
   "source": [
    "Nach der Optimierung der Hyperparameter ist die Performance des Random Forests deutlich gesunken, der Root Mean Squared Error liegt bei 2555.33$“. Auch die Feature Importance lässt zu Wünschen übrig: Der Umsatz ist nach wie vor von der Öffnung und dem Wochentag abhängig."
   ]
  },
  {
   "attachments": {},
   "cell_type": "markdown",
   "metadata": {},
   "source": [
    "```from tqdm import tqdm\n",
    "from sklearn.metrics import classification_report\n",
    "from sklearn.model_selection import RandomizedSearchCV\n",
    "from sklearn.model_selection import cross_val_score\n",
    "\n",
    "# create a random forest regressor\n",
    "rf = RandomForestRegressor(random_state=42)\n",
    "\n",
    "# create a dictionary of all values we want to test for n_estimators\n",
    "param_grid = {'n_estimators': [50, 100, 200, 300, 400, 500],\n",
    "              'max_features': ['sqrt', 'log2', 'None'],\n",
    "              'max_depth': [9, 12, 15, 18, 21, 24],\n",
    "              'max_leaf_nodes': [9, 12, 15, 18, 21, 24]}\n",
    "\n",
    "random_search = RandomizedSearchCV(rf, param_distributions=param_grid, n_iter=10, cv=5, verbose=2)\n",
    "\n",
    "# fit model to data\n",
    "random_search.fit(X_train, y_train)\n",
    "\n",
    "# check top performing n_estimators value\n",
    "pprint(random_search.best_params_)\n"
   ]
  },
  {
   "cell_type": "code",
   "execution_count": null,
   "metadata": {},
   "outputs": [],
   "source": [
    "# create a random forest regressor using the best parameter\n",
    "rf = RandomForestRegressor(n_estimators=300, max_features='log2', max_depth=12, max_leaf_nodes=24, random_state=42)\n",
    "\n",
    "# train and evaluate the model\n",
    "rf = train_evaluate(rf, X_train, y_train, X_test, y_test)\n",
    "\n",
    "# plot feature importance\n",
    "plot_feature_importance(rf)"
   ]
  },
  {
   "attachments": {},
   "cell_type": "markdown",
   "metadata": {},
   "source": [
    "-> Mit den Standardwerten des Random Forests werden mit Abstand die besten Werte erzielt"
   ]
  },
  {
   "cell_type": "code",
   "execution_count": null,
   "metadata": {},
   "outputs": [],
   "source": [
    "# print standard parameters of random forest\n",
    "# create a random forest regressor\n",
    "rf = RandomForestRegressor(random_state=42)\n",
    "\n",
    "# train and evaluate the model\n",
    "rf = train_evaluate(rf, X_train, y_train, X_test, y_test)\n",
    "\n",
    "# plot feature importance\n",
    "plot_feature_importance(rf)\n",
    "pprint(rf.get_params())"
   ]
  },
  {
   "attachments": {},
   "cell_type": "markdown",
   "metadata": {},
   "source": [
    "### 4.3 Tuning the Decision Tree"
   ]
  },
  {
   "cell_type": "code",
   "execution_count": null,
   "metadata": {},
   "outputs": [],
   "source": [
    "# create a decision tree regressor\n",
    "dt = DecisionTreeRegressor(random_state=42)\n",
    "\n",
    "# train and evaluate the model\n",
    "dt = train_evaluate(dt, X_train, y_train, X_test, y_test)\n",
    "\n",
    "# plot feature importance\n",
    "plot_feature_importance(dt)\n"
   ]
  },
  {
   "attachments": {},
   "cell_type": "markdown",
   "metadata": {},
   "source": [
    "```# optimize the decision tree regressor\n",
    "from sklearn.model_selection import GridSearchCV\n",
    "from sklearn.model_selection import cross_val_score\n",
    "\n",
    "# create a decision tree regressor\n",
    "dt = DecisionTreeRegressor(random_state=42)\n",
    "\n",
    "# create a dictionary of all values we want to test for max_depth\n",
    "parameters = {'criterion': ['poisson', 'friedman_mse', 'squared_error'], \n",
    "              'max_depth': [2,4,6,8,10], \n",
    "              'max_features': [1,3,5,7,10,15,20],                \n",
    "              'min_samples_split': [2,3,4,5,6,7]}\n",
    "# use gridsearch to test all values for n_estimators\n",
    "dt_gscv = GridSearchCV(dt, parameters, cv=5, verbose=2)\n",
    "\n",
    "# fit model to data\n",
    "dt_gscv.fit(X_train, y_train)\n",
    "\n",
    "pprint(dt_gscv.best_params_)"
   ]
  },
  {
   "cell_type": "code",
   "execution_count": null,
   "metadata": {},
   "outputs": [],
   "source": [
    "# creating a decision tree regressor using the best parameters\n",
    "dt = DecisionTreeRegressor(criterion='friedman_mse', max_depth=10, max_features=15, min_samples_split=7, random_state=42)\n",
    "\n",
    "# train and evaluate the model\n",
    "dt = train_evaluate(dt, X_train, y_train, X_test, y_test)\n",
    "\n",
    "# plot feature importance\n",
    "plot_feature_importance(dt)"
   ]
  },
  {
   "attachments": {},
   "cell_type": "markdown",
   "metadata": {},
   "source": [
    "### 4.4 Tuning XGBoost"
   ]
  },
  {
   "attachments": {},
   "cell_type": "markdown",
   "metadata": {},
   "source": [
    "```# tune the parameters of xgboost with gridsearch and tqdm\n",
    "from sklearn.model_selection import GridSearchCV\n",
    "from sklearn.model_selection import cross_val_score\n",
    "\n",
    "# create a xgboost regressor\n",
    "import xgboost as xgb\n",
    "xgb = xgb.XGBRegressor(random_state=42)\n",
    "\n",
    "# train and evaluate the model\n",
    "xgb = train_evaluate(xgb, X_train, y_train, X_test, y_test)\n",
    "\n",
    "# plot feature importance\n",
    "plot_feature_importance(xgb)\n",
    "\n",
    "# create a dictionary of all values we want to test for n_estimators\n",
    "PARAMETERS = {\"subsample\":[0.75, 1],\n",
    "              \"colsample_bytree\":[0.75, 1],\n",
    "              \"max_depth\":[2, 6],\n",
    "              \"min_child_weight\":[1, 5],\n",
    "              \"learning_rate\":[0.1, 0.01]}\n",
    "\n",
    "# use gridsearch to test all values for n_estimators\n",
    "xgb_gscv = GridSearchCV(xgb, PARAMETERS, cv=5, verbose=2)\n",
    "\n",
    "# fit model to data\n",
    "xgb_gscv.fit(X_train, y_train)\n",
    "\n",
    "# check top performing n_estimators value\n",
    "pprint(xgb_gscv.best_params_)"
   ]
  },
  {
   "cell_type": "code",
   "execution_count": null,
   "metadata": {},
   "outputs": [],
   "source": [
    "# create a xgboost regressor using the best parameters\n",
    "xgb = xgboost.XGBRegressor(colsample_bytree=1, learning_rate=0.1, max_depth=6, min_child_weight=5, subsample=1, random_state=42)\n",
    "\n",
    "# train and evaluate the model\n",
    "xgb = train_evaluate(xgb, X_train, y_train, X_test, y_test)\n",
    "\n",
    "# plot feature importance\n",
    "plot_feature_importance(xgb)"
   ]
  },
  {
   "attachments": {},
   "cell_type": "markdown",
   "metadata": {},
   "source": [
    "## 5. Ensemble Method: Stacking\n",
    "\n",
    "While bagging and boosting used homogenous weak learners for ensemble, Stacking often considers heterogeneous weak learners, learns them in parallel, and combines them by training a meta-learner to output a prediction based on the different weak learner’s predictions. A meta learner inputs the predictions as the features and the target being the ground truth values in data D(Fig 2.), it attempts to learn how to best combine the input predictions to make a better output prediction. \n",
    "\n",
    "In averaging ensemble eg. Random Forest, the model combines the predictions from multiple trained models. A limitation of this approach is that each model contributes the same amount to the ensemble prediction, irrespective of how well the model performed. An alternate approach is a weighted average ensemble, which weighs the contribution of each ensemble member by the trust on their contribution in giving the best predictions. The weighted average ensemble provides an improvement over the model average ensemble.\n",
    "\n",
    "A further generalization of this approach is replacing the linear weighted sum with Linear Regression (regression problem) or Logistic Regression (classification problem) to combine the predictions of the sub-models with any learning algorithm. This approach is called Stacking.\n",
    "\n",
    "In stacking, an algorithm takes the outputs of sub-models as input and attempts to learn how to best combine the input predictions to make a better output prediction.\n",
    "[Ensemble Stacking for ML & DL](https://www.analyticsvidhya.com/blog/2021/08/ensemble-stacking-for-machine-learning-and-deep-learning/)"
   ]
  },
  {
   "cell_type": "code",
   "execution_count": null,
   "metadata": {},
   "outputs": [],
   "source": [
    "# stack the models\n",
    "# create a list of models\n",
    "models = [knn, rf, dt, xgb]\n",
    "\n",
    "# create a stacking regressor\n",
    "stack = StackingCVRegressor(regressors=models, meta_regressor=xgb, cv=5, use_features_in_secondary=True, verbose=2)\n",
    "\n",
    "# train and evaluate the model\n",
    "stack = train_evaluate(stack, X_train, y_train, X_test, y_test)\n"
   ]
  },
  {
   "attachments": {},
   "cell_type": "markdown",
   "metadata": {},
   "source": [
    "- bagging that often considers homogeneous weak learners, learns them in parallel, and combines them by averaging their predictions\n",
    "- boosting that often considers homogeneous weak learners, learns them sequentially, and combines them by weighted averaging their predictions\n",
    "- stacking that often considers heterogeneous weak learners, learns them in parallel, and combines them by training a meta-learner to output a prediction based on the different weak learner’s predictions"
   ]
  },
  {
   "cell_type": "code",
   "execution_count": 22,
   "metadata": {},
   "outputs": [
    {
     "name": "stdout",
     "output_type": "stream",
     "text": [
      "-------knn-------\n",
      "Coefficient of determination: 0.6834391773119506\n",
      "Root Mean Squared Error: 2164.2101788722603\n",
      "Computation Time: 5.816175937652588\n",
      "----------------------------------\n",
      "\n",
      "-------rf-------\n",
      "Coefficient of determination: 0.8881589562158372\n",
      "Root Mean Squared Error: 1286.3864538672071\n",
      "Computation Time: 461.6324551105499\n",
      "----------------------------------\n",
      "\n",
      "-------dt-------\n",
      "Coefficient of determination: 0.7560066277644176\n",
      "Root Mean Squared Error: 1900.0274139477667\n",
      "Computation Time: 3.587357997894287\n",
      "----------------------------------\n",
      "\n"
     ]
    }
   ],
   "source": [
    "base_models = [\n",
    "    ('knn', KNeighborsRegressor()),\n",
    "    ('rf',RandomForestRegressor()),\n",
    "    ('dt',DecisionTreeRegressor()),\n",
    "    ('svr',SVR()),\n",
    "    ]\n",
    "stacked = StackingRegressor(\n",
    "    estimators = base_models,\n",
    "    final_estimator = LinearRegression(),\n",
    "    cv = 5)\n",
    "\n",
    "for name, model in base_models:\n",
    "    start_time = time.time()\n",
    "    model.fit(X_train, y_train)\n",
    "    prediction = model.predict(X_test)\n",
    "    end_time = time.time()\n",
    "    \n",
    "    r2 = model.score(X_test, y_test)\n",
    "    rmse = mean_squared_error(y_test, prediction, squared = False)\n",
    "    \n",
    "    print(\"-------{}-------\".format(name))\n",
    "    print(\"Coefficient of determination: {}\".format(r2))\n",
    "    print(\"Root Mean Squared Error: {}\".format(rmse))\n",
    "    print(\"Computation Time: {}\".format(end_time - start_time))\n",
    "    print(\"----------------------------------\\n\")\n",
    "start_time = time.time()\n",
    "stacked.fit(X_train, y_train)    \n",
    "stacked_prediction = stacked.predict(X_test)\n",
    "end_time = time.time()\n",
    "stacked_r2 = stacked.score(X_test, y_test)\n",
    "stacked_rmse = mean_squared_error(y_test, stacked_prediction, squared = False)\n",
    "print(\"-------Stacked Ensemble-------\")\n",
    "print(\"Coefficient of determination: {}\".format(stacked_r2))\n",
    "print(\"Root Mean Squared Error: {}\".format(stacked_rmse))\n",
    "print(\"Computation Time: {}\".format(end_time - start_time))\n",
    "print(\"----------------------------------\")"
   ]
  },
  {
   "cell_type": "code",
   "execution_count": null,
   "metadata": {},
   "outputs": [],
   "source": []
  }
 ],
 "metadata": {
  "kernelspec": {
   "display_name": "Python 3",
   "language": "python",
   "name": "python3"
  },
  "language_info": {
   "codemirror_mode": {
    "name": "ipython",
    "version": 3
   },
   "file_extension": ".py",
   "mimetype": "text/x-python",
   "name": "python",
   "nbconvert_exporter": "python",
   "pygments_lexer": "ipython3",
   "version": "3.10.7"
  },
  "orig_nbformat": 4,
  "vscode": {
   "interpreter": {
    "hash": "b0fa6594d8f4cbf19f97940f81e996739fb7646882a419484c72d19e05852a7e"
   }
  }
 },
 "nbformat": 4,
 "nbformat_minor": 2
}
