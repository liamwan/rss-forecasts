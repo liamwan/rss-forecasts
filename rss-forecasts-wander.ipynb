{
 "cells": [
  {
   "cell_type": "code",
   "execution_count": 3,
   "metadata": {},
   "outputs": [],
   "source": [
    "import numpy as np\n",
    "import pandas as pd\n",
    "import matplotlib.pyplot as plt\n",
    "import seaborn as sns\n",
    "import sklearn as sk"
   ]
  },
  {
   "cell_type": "code",
   "execution_count": 4,
   "metadata": {},
   "outputs": [
    {
     "name": "stderr",
     "output_type": "stream",
     "text": [
      "/var/folders/_y/hzd68ny17rsfgx2sq7wtmxcw0000gn/T/ipykernel_2170/309179011.py:2: DtypeWarning: Columns (7) have mixed types. Specify dtype option on import or set low_memory=False.\n",
      "  train = pd.read_csv('input-rss/train.csv')\n"
     ]
    }
   ],
   "source": [
    "# read data\n",
    "train = pd.read_csv('input-rss/train.csv')\n",
    "store = pd.read_csv('input-rss/store.csv')\n",
    "test = pd.read_csv('input-rss/test.csv')"
   ]
  },
  {
   "cell_type": "code",
   "execution_count": 5,
   "metadata": {},
   "outputs": [
    {
     "name": "stdout",
     "output_type": "stream",
     "text": [
      "<class 'pandas.core.frame.DataFrame'>\n",
      "RangeIndex: 1115 entries, 0 to 1114\n",
      "Data columns (total 10 columns):\n",
      " #   Column                     Non-Null Count  Dtype  \n",
      "---  ------                     --------------  -----  \n",
      " 0   Store                      1115 non-null   int64  \n",
      " 1   StoreType                  1115 non-null   object \n",
      " 2   Assortment                 1115 non-null   object \n",
      " 3   CompetitionDistance        1112 non-null   float64\n",
      " 4   CompetitionOpenSinceMonth  761 non-null    float64\n",
      " 5   CompetitionOpenSinceYear   761 non-null    float64\n",
      " 6   Promo2                     1115 non-null   int64  \n",
      " 7   Promo2SinceWeek            571 non-null    float64\n",
      " 8   Promo2SinceYear            571 non-null    float64\n",
      " 9   PromoInterval              571 non-null    object \n",
      "dtypes: float64(5), int64(2), object(3)\n",
      "memory usage: 87.2+ KB\n",
      "None\n",
      "<class 'pandas.core.frame.DataFrame'>\n",
      "RangeIndex: 1017209 entries, 0 to 1017208\n",
      "Data columns (total 9 columns):\n",
      " #   Column         Non-Null Count    Dtype \n",
      "---  ------         --------------    ----- \n",
      " 0   Store          1017209 non-null  int64 \n",
      " 1   DayOfWeek      1017209 non-null  int64 \n",
      " 2   Date           1017209 non-null  object\n",
      " 3   Sales          1017209 non-null  int64 \n",
      " 4   Customers      1017209 non-null  int64 \n",
      " 5   Open           1017209 non-null  int64 \n",
      " 6   Promo          1017209 non-null  int64 \n",
      " 7   StateHoliday   1017209 non-null  object\n",
      " 8   SchoolHoliday  1017209 non-null  int64 \n",
      "dtypes: int64(7), object(2)\n",
      "memory usage: 69.8+ MB\n",
      "None\n",
      "<class 'pandas.core.frame.DataFrame'>\n",
      "RangeIndex: 41088 entries, 0 to 41087\n",
      "Data columns (total 8 columns):\n",
      " #   Column         Non-Null Count  Dtype  \n",
      "---  ------         --------------  -----  \n",
      " 0   Id             41088 non-null  int64  \n",
      " 1   Store          41088 non-null  int64  \n",
      " 2   DayOfWeek      41088 non-null  int64  \n",
      " 3   Date           41088 non-null  object \n",
      " 4   Open           41077 non-null  float64\n",
      " 5   Promo          41088 non-null  int64  \n",
      " 6   StateHoliday   41088 non-null  object \n",
      " 7   SchoolHoliday  41088 non-null  int64  \n",
      "dtypes: float64(1), int64(5), object(2)\n",
      "memory usage: 2.5+ MB\n",
      "None\n"
     ]
    }
   ],
   "source": [
    "print(store.info()) \n",
    "print(train.info())\n",
    "print(test.info())"
   ]
  },
  {
   "attachments": {},
   "cell_type": "markdown",
   "metadata": {},
   "source": [
    "### Store\n",
    "- CompetitionDistance (3 null) mit durchschnitt eintragen\n",
    "- CompetitionOpenSinceMonth -> gelöscht\n",
    "- CompetitionOpenSinceYear -> gelöscht\n",
    "- Promo2 -> 0: kein Promo2, \n",
    "            1: Promo2 aktiv -> Promo2SinceWeek, Promo2SinceYear, PromoInterval\n",
    "\n",
    "### Train\n",
    "- Date -> Datum; Änderung in Datetime bzw. Jahr, Monat, Tag, Woche, Tag im Jahr, Tag der Woche, Feiertag\n",
    "- StateHoliday -> 0: kein Feiertag, a: Feiertag (Gesetzlich), b: Feiertag (Ostern), c: Feiertag (Christmas); Änderung in 0, 1, 2, 3\n",
    "- SchoolHoliday -> 0: kein Schulferien, 1: Schulferien"
   ]
  },
  {
   "cell_type": "code",
   "execution_count": 6,
   "metadata": {},
   "outputs": [],
   "source": [
    "# data cleaning\n",
    "# fill missing CompetitionDistance with mean\n",
    "store['CompetitionDistance'].fillna(store['CompetitionDistance'].mean(), inplace=True)"
   ]
  },
  {
   "cell_type": "code",
   "execution_count": 7,
   "metadata": {},
   "outputs": [],
   "source": [
    "# drop columns 4 and 5 of store\n",
    "store.drop(store.columns[[4,5]], axis=1, inplace=True)"
   ]
  },
  {
   "cell_type": "code",
   "execution_count": 8,
   "metadata": {},
   "outputs": [
    {
     "data": {
      "text/html": [
       "<div>\n",
       "<style scoped>\n",
       "    .dataframe tbody tr th:only-of-type {\n",
       "        vertical-align: middle;\n",
       "    }\n",
       "\n",
       "    .dataframe tbody tr th {\n",
       "        vertical-align: top;\n",
       "    }\n",
       "\n",
       "    .dataframe thead th {\n",
       "        text-align: right;\n",
       "    }\n",
       "</style>\n",
       "<table border=\"1\" class=\"dataframe\">\n",
       "  <thead>\n",
       "    <tr style=\"text-align: right;\">\n",
       "      <th></th>\n",
       "      <th>Store</th>\n",
       "      <th>StoreType</th>\n",
       "      <th>Assortment</th>\n",
       "      <th>CompetitionDistance</th>\n",
       "      <th>Promo2</th>\n",
       "      <th>Promo2SinceWeek</th>\n",
       "      <th>Promo2SinceYear</th>\n",
       "      <th>PromoInterval</th>\n",
       "    </tr>\n",
       "  </thead>\n",
       "  <tbody>\n",
       "    <tr>\n",
       "      <th>0</th>\n",
       "      <td>1</td>\n",
       "      <td>2</td>\n",
       "      <td>0</td>\n",
       "      <td>1270.0</td>\n",
       "      <td>0</td>\n",
       "      <td>NaN</td>\n",
       "      <td>NaN</td>\n",
       "      <td>NaN</td>\n",
       "    </tr>\n",
       "    <tr>\n",
       "      <th>1</th>\n",
       "      <td>2</td>\n",
       "      <td>0</td>\n",
       "      <td>0</td>\n",
       "      <td>570.0</td>\n",
       "      <td>1</td>\n",
       "      <td>13.0</td>\n",
       "      <td>2010.0</td>\n",
       "      <td>Jan,Apr,Jul,Oct</td>\n",
       "    </tr>\n",
       "    <tr>\n",
       "      <th>2</th>\n",
       "      <td>3</td>\n",
       "      <td>0</td>\n",
       "      <td>0</td>\n",
       "      <td>14130.0</td>\n",
       "      <td>1</td>\n",
       "      <td>14.0</td>\n",
       "      <td>2011.0</td>\n",
       "      <td>Jan,Apr,Jul,Oct</td>\n",
       "    </tr>\n",
       "    <tr>\n",
       "      <th>3</th>\n",
       "      <td>4</td>\n",
       "      <td>2</td>\n",
       "      <td>2</td>\n",
       "      <td>620.0</td>\n",
       "      <td>0</td>\n",
       "      <td>NaN</td>\n",
       "      <td>NaN</td>\n",
       "      <td>NaN</td>\n",
       "    </tr>\n",
       "    <tr>\n",
       "      <th>4</th>\n",
       "      <td>5</td>\n",
       "      <td>0</td>\n",
       "      <td>0</td>\n",
       "      <td>29910.0</td>\n",
       "      <td>0</td>\n",
       "      <td>NaN</td>\n",
       "      <td>NaN</td>\n",
       "      <td>NaN</td>\n",
       "    </tr>\n",
       "  </tbody>\n",
       "</table>\n",
       "</div>"
      ],
      "text/plain": [
       "   Store  StoreType  Assortment  CompetitionDistance  Promo2  Promo2SinceWeek  \\\n",
       "0      1          2           0               1270.0       0              NaN   \n",
       "1      2          0           0                570.0       1             13.0   \n",
       "2      3          0           0              14130.0       1             14.0   \n",
       "3      4          2           2                620.0       0              NaN   \n",
       "4      5          0           0              29910.0       0              NaN   \n",
       "\n",
       "   Promo2SinceYear    PromoInterval  \n",
       "0              NaN              NaN  \n",
       "1           2010.0  Jan,Apr,Jul,Oct  \n",
       "2           2011.0  Jan,Apr,Jul,Oct  \n",
       "3              NaN              NaN  \n",
       "4              NaN              NaN  "
      ]
     },
     "execution_count": 8,
     "metadata": {},
     "output_type": "execute_result"
    }
   ],
   "source": [
    "# map strings to categorical values\n",
    "store['StoreType'] = store['StoreType'].map({'a':0, 'b':1, 'c':2, 'd':3})\n",
    "store['Assortment'] = store['Assortment'].map({'a':0, 'b':1, 'c':2})\n",
    "store.head()\n"
   ]
  },
  {
   "cell_type": "code",
   "execution_count": 9,
   "metadata": {},
   "outputs": [],
   "source": [
    "# encode PromoInterval\n",
    "from sklearn.preprocessing import LabelEncoder\n",
    "le = LabelEncoder()\n",
    "store['PromoInterval'] = le.fit_transform(store['PromoInterval'].astype(str))\n",
    "store['Promo2SinceWeek'] = le.fit_transform(store['Promo2SinceWeek'].astype(str))\n",
    "store['Promo2SinceYear'] = le.fit_transform(store['Promo2SinceYear'].astype(str))"
   ]
  },
  {
   "cell_type": "code",
   "execution_count": 10,
   "metadata": {},
   "outputs": [
    {
     "data": {
      "text/html": [
       "<div>\n",
       "<style scoped>\n",
       "    .dataframe tbody tr th:only-of-type {\n",
       "        vertical-align: middle;\n",
       "    }\n",
       "\n",
       "    .dataframe tbody tr th {\n",
       "        vertical-align: top;\n",
       "    }\n",
       "\n",
       "    .dataframe thead th {\n",
       "        text-align: right;\n",
       "    }\n",
       "</style>\n",
       "<table border=\"1\" class=\"dataframe\">\n",
       "  <thead>\n",
       "    <tr style=\"text-align: right;\">\n",
       "      <th></th>\n",
       "      <th>Store</th>\n",
       "      <th>StoreType</th>\n",
       "      <th>Assortment</th>\n",
       "      <th>CompetitionDistance</th>\n",
       "      <th>Promo2</th>\n",
       "      <th>Promo2SinceWeek</th>\n",
       "      <th>Promo2SinceYear</th>\n",
       "      <th>PromoInterval</th>\n",
       "    </tr>\n",
       "  </thead>\n",
       "  <tbody>\n",
       "    <tr>\n",
       "      <th>0</th>\n",
       "      <td>1</td>\n",
       "      <td>2</td>\n",
       "      <td>0</td>\n",
       "      <td>1270.0</td>\n",
       "      <td>0</td>\n",
       "      <td>24</td>\n",
       "      <td>7</td>\n",
       "      <td>3</td>\n",
       "    </tr>\n",
       "    <tr>\n",
       "      <th>1</th>\n",
       "      <td>2</td>\n",
       "      <td>0</td>\n",
       "      <td>0</td>\n",
       "      <td>570.0</td>\n",
       "      <td>1</td>\n",
       "      <td>2</td>\n",
       "      <td>1</td>\n",
       "      <td>1</td>\n",
       "    </tr>\n",
       "    <tr>\n",
       "      <th>2</th>\n",
       "      <td>3</td>\n",
       "      <td>0</td>\n",
       "      <td>0</td>\n",
       "      <td>14130.0</td>\n",
       "      <td>1</td>\n",
       "      <td>3</td>\n",
       "      <td>2</td>\n",
       "      <td>1</td>\n",
       "    </tr>\n",
       "    <tr>\n",
       "      <th>3</th>\n",
       "      <td>4</td>\n",
       "      <td>2</td>\n",
       "      <td>2</td>\n",
       "      <td>620.0</td>\n",
       "      <td>0</td>\n",
       "      <td>24</td>\n",
       "      <td>7</td>\n",
       "      <td>3</td>\n",
       "    </tr>\n",
       "    <tr>\n",
       "      <th>4</th>\n",
       "      <td>5</td>\n",
       "      <td>0</td>\n",
       "      <td>0</td>\n",
       "      <td>29910.0</td>\n",
       "      <td>0</td>\n",
       "      <td>24</td>\n",
       "      <td>7</td>\n",
       "      <td>3</td>\n",
       "    </tr>\n",
       "  </tbody>\n",
       "</table>\n",
       "</div>"
      ],
      "text/plain": [
       "   Store  StoreType  Assortment  CompetitionDistance  Promo2  Promo2SinceWeek  \\\n",
       "0      1          2           0               1270.0       0               24   \n",
       "1      2          0           0                570.0       1                2   \n",
       "2      3          0           0              14130.0       1                3   \n",
       "3      4          2           2                620.0       0               24   \n",
       "4      5          0           0              29910.0       0               24   \n",
       "\n",
       "   Promo2SinceYear  PromoInterval  \n",
       "0                7              3  \n",
       "1                1              1  \n",
       "2                2              1  \n",
       "3                7              3  \n",
       "4                7              3  "
      ]
     },
     "execution_count": 10,
     "metadata": {},
     "output_type": "execute_result"
    }
   ],
   "source": [
    "store.head()"
   ]
  },
  {
   "attachments": {},
   "cell_type": "markdown",
   "metadata": {},
   "source": [
    "# Data Cleaning Train & Test Data"
   ]
  },
  {
   "cell_type": "code",
   "execution_count": 11,
   "metadata": {},
   "outputs": [
    {
     "data": {
      "text/html": [
       "<div>\n",
       "<style scoped>\n",
       "    .dataframe tbody tr th:only-of-type {\n",
       "        vertical-align: middle;\n",
       "    }\n",
       "\n",
       "    .dataframe tbody tr th {\n",
       "        vertical-align: top;\n",
       "    }\n",
       "\n",
       "    .dataframe thead th {\n",
       "        text-align: right;\n",
       "    }\n",
       "</style>\n",
       "<table border=\"1\" class=\"dataframe\">\n",
       "  <thead>\n",
       "    <tr style=\"text-align: right;\">\n",
       "      <th></th>\n",
       "      <th>Store</th>\n",
       "      <th>DayOfWeek</th>\n",
       "      <th>Date</th>\n",
       "      <th>Sales</th>\n",
       "      <th>Customers</th>\n",
       "      <th>Open</th>\n",
       "      <th>Promo</th>\n",
       "      <th>StateHoliday</th>\n",
       "      <th>SchoolHoliday</th>\n",
       "    </tr>\n",
       "  </thead>\n",
       "  <tbody>\n",
       "    <tr>\n",
       "      <th>0</th>\n",
       "      <td>1</td>\n",
       "      <td>5</td>\n",
       "      <td>2015-07-31</td>\n",
       "      <td>5263</td>\n",
       "      <td>555</td>\n",
       "      <td>1</td>\n",
       "      <td>1</td>\n",
       "      <td>0</td>\n",
       "      <td>1</td>\n",
       "    </tr>\n",
       "    <tr>\n",
       "      <th>1</th>\n",
       "      <td>2</td>\n",
       "      <td>5</td>\n",
       "      <td>2015-07-31</td>\n",
       "      <td>6064</td>\n",
       "      <td>625</td>\n",
       "      <td>1</td>\n",
       "      <td>1</td>\n",
       "      <td>0</td>\n",
       "      <td>1</td>\n",
       "    </tr>\n",
       "    <tr>\n",
       "      <th>2</th>\n",
       "      <td>3</td>\n",
       "      <td>5</td>\n",
       "      <td>2015-07-31</td>\n",
       "      <td>8314</td>\n",
       "      <td>821</td>\n",
       "      <td>1</td>\n",
       "      <td>1</td>\n",
       "      <td>0</td>\n",
       "      <td>1</td>\n",
       "    </tr>\n",
       "    <tr>\n",
       "      <th>3</th>\n",
       "      <td>4</td>\n",
       "      <td>5</td>\n",
       "      <td>2015-07-31</td>\n",
       "      <td>13995</td>\n",
       "      <td>1498</td>\n",
       "      <td>1</td>\n",
       "      <td>1</td>\n",
       "      <td>0</td>\n",
       "      <td>1</td>\n",
       "    </tr>\n",
       "    <tr>\n",
       "      <th>4</th>\n",
       "      <td>5</td>\n",
       "      <td>5</td>\n",
       "      <td>2015-07-31</td>\n",
       "      <td>4822</td>\n",
       "      <td>559</td>\n",
       "      <td>1</td>\n",
       "      <td>1</td>\n",
       "      <td>0</td>\n",
       "      <td>1</td>\n",
       "    </tr>\n",
       "  </tbody>\n",
       "</table>\n",
       "</div>"
      ],
      "text/plain": [
       "   Store  DayOfWeek        Date  Sales  Customers  Open  Promo StateHoliday  \\\n",
       "0      1          5  2015-07-31   5263        555     1      1            0   \n",
       "1      2          5  2015-07-31   6064        625     1      1            0   \n",
       "2      3          5  2015-07-31   8314        821     1      1            0   \n",
       "3      4          5  2015-07-31  13995       1498     1      1            0   \n",
       "4      5          5  2015-07-31   4822        559     1      1            0   \n",
       "\n",
       "   SchoolHoliday  \n",
       "0              1  \n",
       "1              1  \n",
       "2              1  \n",
       "3              1  \n",
       "4              1  "
      ]
     },
     "execution_count": 11,
     "metadata": {},
     "output_type": "execute_result"
    }
   ],
   "source": [
    "train.head()"
   ]
  },
  {
   "cell_type": "code",
   "execution_count": 12,
   "metadata": {},
   "outputs": [
    {
     "name": "stdout",
     "output_type": "stream",
     "text": [
      "   Store  DayOfWeek        Date  Sales  Customers  Open  Promo  StateHoliday  \\\n",
      "0      1          5  2015-07-31   5263        555     1      1             0   \n",
      "1      2          5  2015-07-31   6064        625     1      1             0   \n",
      "2      3          5  2015-07-31   8314        821     1      1             0   \n",
      "3      4          5  2015-07-31  13995       1498     1      1             0   \n",
      "4      5          5  2015-07-31   4822        559     1      1             0   \n",
      "\n",
      "   SchoolHoliday  \n",
      "0              1  \n",
      "1              1  \n",
      "2              1  \n",
      "3              1  \n",
      "4              1  \n",
      "   Id  Store  DayOfWeek        Date  Open  Promo  StateHoliday  SchoolHoliday\n",
      "0   1      1          4  2015-09-17     1      1             0              0\n",
      "1   2      3          4  2015-09-17     1      1             0              0\n",
      "2   3      7          4  2015-09-17     1      1             0              0\n",
      "3   4      8          4  2015-09-17     1      1             0              0\n",
      "4   5      9          4  2015-09-17     1      1             0              0\n"
     ]
    }
   ],
   "source": [
    "train['StateHoliday'] = le.fit_transform(train['StateHoliday'].astype(str))\n",
    "print(train.head())\n",
    "\n",
    "test['StateHoliday'] = le.fit_transform(test['StateHoliday'].astype(str))\n",
    "test['Open'] = le.fit_transform(test['Open'].astype(str))\n",
    "print(test.head())"
   ]
  },
  {
   "attachments": {},
   "cell_type": "markdown",
   "metadata": {},
   "source": [
    "Date bei beiden"
   ]
  },
  {
   "cell_type": "code",
   "execution_count": 13,
   "metadata": {},
   "outputs": [],
   "source": [
    "# split date into year, month, day\n",
    "train['Date'] = pd.to_datetime(train['Date'])\n",
    "train['Date_Year'] = train['Date'].dt.year\n",
    "train['Date_Month'] = train['Date'].dt.month\n",
    "train['Date_Day'] = train['Date'].dt.day\n",
    "train = train.drop('Date', axis=1)\n",
    "\n",
    "# split date into year, month, day\n",
    "test['Date'] = pd.to_datetime(test['Date'])\n",
    "test['Date_Year'] = test['Date'].dt.year\n",
    "test['Date_Month'] = test['Date'].dt.month\n",
    "test['Date_Day'] = test['Date'].dt.day\n",
    "test = test.drop('Date', axis=1)\n"
   ]
  },
  {
   "cell_type": "code",
   "execution_count": 14,
   "metadata": {},
   "outputs": [
    {
     "name": "stdout",
     "output_type": "stream",
     "text": [
      "   Store  DayOfWeek  Sales  Customers  Open  Promo  StateHoliday  \\\n",
      "0      1          5   5263        555     1      1             0   \n",
      "1      2          5   6064        625     1      1             0   \n",
      "2      3          5   8314        821     1      1             0   \n",
      "3      4          5  13995       1498     1      1             0   \n",
      "4      5          5   4822        559     1      1             0   \n",
      "\n",
      "   SchoolHoliday  Date_Year  Date_Month  Date_Day  \n",
      "0              1       2015           7        31  \n",
      "1              1       2015           7        31  \n",
      "2              1       2015           7        31  \n",
      "3              1       2015           7        31  \n",
      "4              1       2015           7        31  \n",
      "   Id  Store  DayOfWeek  Open  Promo  StateHoliday  SchoolHoliday  Date_Year  \\\n",
      "0   1      1          4     1      1             0              0       2015   \n",
      "1   2      3          4     1      1             0              0       2015   \n",
      "2   3      7          4     1      1             0              0       2015   \n",
      "3   4      8          4     1      1             0              0       2015   \n",
      "4   5      9          4     1      1             0              0       2015   \n",
      "\n",
      "   Date_Month  Date_Day  \n",
      "0           9        17  \n",
      "1           9        17  \n",
      "2           9        17  \n",
      "3           9        17  \n",
      "4           9        17  \n"
     ]
    }
   ],
   "source": [
    "print(train.head())\n",
    "print(test.head())"
   ]
  },
  {
   "attachments": {},
   "cell_type": "markdown",
   "metadata": {},
   "source": [
    "for later use\n",
    "```# merge year, month, day to date\n",
    "train['Date'] = train['Date_Year'].map(str) + '-' + train['Date_Month'].map(str) + '-' + train['Date_Day'].map(str)```"
   ]
  },
  {
   "cell_type": "code",
   "execution_count": 15,
   "metadata": {},
   "outputs": [
    {
     "name": "stdout",
     "output_type": "stream",
     "text": [
      "      Store  DayOfWeek  Sales  Customers  Open  Promo  StateHoliday  \\\n",
      "0         1          5   5263        555     1      1             0   \n",
      "1115      1          4   5020        546     1      1             0   \n",
      "2230      1          3   4782        523     1      1             0   \n",
      "3345      1          2   5011        560     1      1             0   \n",
      "4460      1          1   6102        612     1      1             0   \n",
      "\n",
      "      SchoolHoliday  Date_Year  Date_Month  Date_Day  StoreType  Assortment  \\\n",
      "0                 1       2015           7        31          0           0   \n",
      "1115              1       2015           7        30          0           0   \n",
      "2230              1       2015           7        29          0           0   \n",
      "3345              1       2015           7        28          0           0   \n",
      "4460              1       2015           7        27          0           0   \n",
      "\n",
      "      PromoInterval  Promo2SinceWeek  Promo2SinceYear  \n",
      "0                 1                2                1  \n",
      "1115              1                2                1  \n",
      "2230              1                2                1  \n",
      "3345              1                2                1  \n",
      "4460              1                2                1  \n",
      "        Id  Store  DayOfWeek  Open  Promo  StateHoliday  SchoolHoliday  \\\n",
      "0        1      1          4     1      1             0              0   \n",
      "856    857      1          3     1      1             0              0   \n",
      "1712  1713      1          2     1      1             0              0   \n",
      "2568  2569      1          1     1      1             0              0   \n",
      "3424  3425      1          7     0      0             0              0   \n",
      "\n",
      "      Date_Year  Date_Month  Date_Day  StoreType  Assortment  PromoInterval  \\\n",
      "0          2015           9        17          0           0              1   \n",
      "856        2015           9        16          0           0              1   \n",
      "1712       2015           9        15          0           0              1   \n",
      "2568       2015           9        14          0           0              1   \n",
      "3424       2015           9        13          0           0              1   \n",
      "\n",
      "      Promo2SinceWeek  Promo2SinceYear  \n",
      "0                   2                1  \n",
      "856                 2                1  \n",
      "1712                2                1  \n",
      "2568                2                1  \n",
      "3424                2                1  \n"
     ]
    }
   ],
   "source": [
    "# merge train and store assortments\n",
    "train = pd.merge(train, \n",
    "                 store[['StoreType', 'Assortment', 'PromoInterval', 'Promo2SinceWeek', 'Promo2SinceYear']],\n",
    "                 left_on='Store', \n",
    "                 right_index=True)\n",
    "test = pd.merge(test, \n",
    "                store[['StoreType', 'Assortment', 'PromoInterval', 'Promo2SinceWeek', 'Promo2SinceYear']],\n",
    "                left_on='Store', \n",
    "                right_index=True)\n",
    "\n",
    "print(train.head())\n",
    "print(test.head())"
   ]
  },
  {
   "cell_type": "code",
   "execution_count": 16,
   "metadata": {},
   "outputs": [
    {
     "name": "stdout",
     "output_type": "stream",
     "text": [
      "<class 'pandas.core.frame.DataFrame'>\n",
      "Int64Index: 1016267 entries, 0 to 1017207\n",
      "Data columns (total 16 columns):\n",
      " #   Column           Non-Null Count    Dtype\n",
      "---  ------           --------------    -----\n",
      " 0   Store            1016267 non-null  int64\n",
      " 1   DayOfWeek        1016267 non-null  int64\n",
      " 2   Sales            1016267 non-null  int64\n",
      " 3   Customers        1016267 non-null  int64\n",
      " 4   Open             1016267 non-null  int64\n",
      " 5   Promo            1016267 non-null  int64\n",
      " 6   StateHoliday     1016267 non-null  int64\n",
      " 7   SchoolHoliday    1016267 non-null  int64\n",
      " 8   Date_Year        1016267 non-null  int64\n",
      " 9   Date_Month       1016267 non-null  int64\n",
      " 10  Date_Day         1016267 non-null  int64\n",
      " 11  StoreType        1016267 non-null  int64\n",
      " 12  Assortment       1016267 non-null  int64\n",
      " 13  PromoInterval    1016267 non-null  int64\n",
      " 14  Promo2SinceWeek  1016267 non-null  int64\n",
      " 15  Promo2SinceYear  1016267 non-null  int64\n",
      "dtypes: int64(16)\n",
      "memory usage: 131.8 MB\n",
      "None\n",
      "<class 'pandas.core.frame.DataFrame'>\n",
      "Int64Index: 41040 entries, 0 to 41086\n",
      "Data columns (total 15 columns):\n",
      " #   Column           Non-Null Count  Dtype\n",
      "---  ------           --------------  -----\n",
      " 0   Id               41040 non-null  int64\n",
      " 1   Store            41040 non-null  int64\n",
      " 2   DayOfWeek        41040 non-null  int64\n",
      " 3   Open             41040 non-null  int64\n",
      " 4   Promo            41040 non-null  int64\n",
      " 5   StateHoliday     41040 non-null  int64\n",
      " 6   SchoolHoliday    41040 non-null  int64\n",
      " 7   Date_Year        41040 non-null  int64\n",
      " 8   Date_Month       41040 non-null  int64\n",
      " 9   Date_Day         41040 non-null  int64\n",
      " 10  StoreType        41040 non-null  int64\n",
      " 11  Assortment       41040 non-null  int64\n",
      " 12  PromoInterval    41040 non-null  int64\n",
      " 13  Promo2SinceWeek  41040 non-null  int64\n",
      " 14  Promo2SinceYear  41040 non-null  int64\n",
      "dtypes: int64(15)\n",
      "memory usage: 5.0 MB\n",
      "None\n"
     ]
    }
   ],
   "source": [
    "print(train.info())\n",
    "print(test.info())"
   ]
  },
  {
   "attachments": {},
   "cell_type": "markdown",
   "metadata": {},
   "source": [
    "### exploratory data analysis"
   ]
  },
  {
   "cell_type": "code",
   "execution_count": 17,
   "metadata": {},
   "outputs": [
    {
     "data": {
      "image/png": "[encoded data removed]",
      "text/plain": [
       "<Figure size 640x480 with 1 Axes>"
      ]
     },
     "metadata": {},
     "output_type": "display_data"
    }
   ],
   "source": [
    "sns.barplot(x='DayOfWeek', y='Sales', data=train)\n",
    "plt.show()"
   ]
  },
  {
   "cell_type": "code",
   "execution_count": 18,
   "metadata": {},
   "outputs": [
    {
     "data": {
      "image/png": "[encoded data removed]",
      "text/plain": [
       "<Figure size 640x480 with 1 Axes>"
      ]
     },
     "metadata": {},
     "output_type": "display_data"
    }
   ],
   "source": [
    "sns.barplot(x='DayOfWeek', y='Sales', hue='StoreType', data=train)\n",
    "plt.show()"
   ]
  },
  {
   "cell_type": "code",
   "execution_count": 19,
   "metadata": {},
   "outputs": [
    {
     "data": {
      "image/png": "[encoded data removed]",
      "text/plain": [
       "<Figure size 640x480 with 1 Axes>"
      ]
     },
     "metadata": {},
     "output_type": "display_data"
    }
   ],
   "source": [
    "sns.barplot(x='Date_Month', y='Sales', data=train)\n",
    "plt.show()"
   ]
  },
  {
   "attachments": {},
   "cell_type": "markdown",
   "metadata": {},
   "source": [
    "-> Die Umsätze sind im Dezember und Juli durschnittlich höher als im Rest des Jahres."
   ]
  },
  {
   "cell_type": "code",
   "execution_count": 20,
   "metadata": {},
   "outputs": [
    {
     "data": {
      "image/png": "[encoded data removed]",
      "text/plain": [
       "<Figure size 640x480 with 1 Axes>"
      ]
     },
     "metadata": {},
     "output_type": "display_data"
    }
   ],
   "source": [
    "sns.barplot(x='Date_Day', y='Sales', data=train)\n",
    "plt.show()"
   ]
  },
  {
   "cell_type": "code",
   "execution_count": 21,
   "metadata": {},
   "outputs": [
    {
     "data": {
      "image/png": "[encoded data removed]",
      "text/plain": [
       "<Figure size 640x480 with 2 Axes>"
      ]
     },
     "metadata": {},
     "output_type": "display_data"
    }
   ],
   "source": [
    "corr = train.corr()\n",
    "sns.heatmap(corr,\n",
    "            xticklabels=corr.columns.values,\n",
    "            yticklabels=corr.columns.values)\n",
    "plt.show()"
   ]
  },
  {
   "attachments": {},
   "cell_type": "markdown",
   "metadata": {},
   "source": [
    "-> Sales, Customers, Open, Promo, StateHoliday, SchoolHoliday haben eine mäßige, negative Korrelation mit Sales."
   ]
  },
  {
   "attachments": {},
   "cell_type": "markdown",
   "metadata": {},
   "source": [
    "# Modelling"
   ]
  },
  {
   "cell_type": "code",
   "execution_count": 22,
   "metadata": {},
   "outputs": [],
   "source": [
    "test.drop('Id', axis=1, inplace=True) # drop Id column since test data should not have it"
   ]
  },
  {
   "cell_type": "code",
   "execution_count": 23,
   "metadata": {},
   "outputs": [],
   "source": [
    "from sklearn.model_selection import train_test_split\n",
    "from sklearn.metrics import mean_squared_error\n",
    "\n",
    "# split data into train and test\n",
    "X_train, X_test, y_train, y_test = train_test_split(train.drop(['Sales', 'Customers'], axis=1), train['Sales'], test_size=0.2, random_state=42)"
   ]
  },
  {
   "attachments": {},
   "cell_type": "markdown",
   "metadata": {},
   "source": [
    "Erstellen einer Evaluierungsfunktion um die Ergebnisse zu vergleichen\n",
    "\n",
    "```def evaluate(model, X_test, y_test):\n",
    "    y_pred = model.predict(X_test)\n",
    "    print('MAE:', mean_absolute_error(y_test, y_pred))\n",
    "    print('MSE:', mean_squared_error(y_test, y_pred))\n",
    "    print('RMSE:', np.sqrt(mean_squared_error(y_test, y_pred)))\n",
    "    print('R2:', r2_score(y_test, y_pred))```"
   ]
  },
  {
   "cell_type": "code",
   "execution_count": 24,
   "metadata": {},
   "outputs": [],
   "source": [
    "def evaluate(model, test_features, test_labels):\n",
    "    predictions = model.predict(test_features)\n",
    "    errors = abs(predictions - test_labels)\n",
    "    mape = 100 * np.mean(errors / test_labels)\n",
    "    accuracy = 100 - mape\n",
    "    print('Model Performance')\n",
    "    print('Average Error: {:0.4f} degrees.'.format(np.mean(errors)))\n",
    "    print('Accuracy = {:0.2f}%.'.format(accuracy))\n",
    "    \n",
    "    return accuracy"
   ]
  },
  {
   "attachments": {},
   "cell_type": "markdown",
   "metadata": {},
   "source": [
    "## k-Nearest Neighbors"
   ]
  },
  {
   "cell_type": "code",
   "execution_count": 25,
   "metadata": {},
   "outputs": [
    {
     "name": "stdout",
     "output_type": "stream",
     "text": [
      "R^2: 0.6834391773119506\n",
      "Root Mean Squared Error: 2164.2101788722603\n"
     ]
    }
   ],
   "source": [
    "# definition of a knn regressor\n",
    "from sklearn.neighbors import KNeighborsRegressor\n",
    "\n",
    "# create regressor\n",
    "knn = KNeighborsRegressor(n_neighbors=5)\n",
    "\n",
    "# fit regressor to the training data\n",
    "knn.fit(X_train, y_train)\n",
    "\n",
    "# predict on the test data\n",
    "y_pred = knn.predict(X_test)\n",
    "\n",
    "# compute and print R^2 and RMSE\n",
    "print(\"R^2: {}\".format(knn.score(X_test, y_test)))\n",
    "rmse = np.sqrt(mean_squared_error(y_test, y_pred))\n",
    "print(\"Root Mean Squared Error: {}\".format(rmse))\n",
    "\n",
    "# create a list of K for KNN\n",
    "k_list = list(range(1, 25))\n",
    "\n",
    "# create list of cv scores\n",
    "cv_scores = []\n",
    "\n",
    "# perform 10-fold cross validation\n",
    "from sklearn.model_selection import cross_val_score\n",
    "for k in k_list:\n",
    "    knn = KNeighborsRegressor(n_neighbors=k)\n",
    "    scores = cross_val_score(knn, X_train, y_train, cv=10, scoring='neg_mean_squared_error')\n",
    "    cv_scores.append(scores.mean())\n",
    "\n",
    "# changing to misclassification error\n",
    "MSE = [1 - x for x in cv_scores]\n",
    "\n",
    "# determining best k\n",
    "optimal_k = k_list[MSE.index(min(MSE))]\n",
    "print(\"The optimal number of neighbors is {}\".format(optimal_k))\n",
    "\n",
    "# plot misclassification error vs k\n",
    "plt.plot(k_list, MSE)\n",
    "plt.xlabel('Number of Neighbors K')\n",
    "plt.ylabel('Misclassification Error')\n",
    "plt.show()"
   ]
  },
  {
   "cell_type": "code",
   "execution_count": null,
   "metadata": {},
   "outputs": [
    {
     "name": "stdout",
     "output_type": "stream",
     "text": [
      "R^2: 0.710237629565156\n",
      "Root Mean Squared Error: 2070.579191665499\n"
     ]
    }
   ],
   "source": [
    "# test on test data\n",
    "knn = KNeighborsRegressor(n_neighbors=optimal_k)\n",
    "knn.fit(X_train, y_train)\n",
    "y_pred = knn.predict(X_test)\n",
    "\n",
    "# compute and print R^2 and RMSE\n",
    "print(\"R^2: {}\".format(knn.score(X_test, y_test)))\n",
    "rmse = np.sqrt(mean_squared_error(y_test, y_pred))\n",
    "print(\"Root Mean Squared Error: {}\".format(rmse))\n",
    "\n",
    "# predict on test data\n",
    "y_pred = knn.predict(test)\n",
    "\n",
    "evaluate(knn, X_test, y_test)"
   ]
  },
  {
   "attachments": {},
   "cell_type": "markdown",
   "metadata": {},
   "source": [
    "## logistic regression"
   ]
  },
  {
   "cell_type": "code",
   "execution_count": null,
   "metadata": {},
   "outputs": [
    {
     "data": {
      "text/plain": [
       "'# defining a logistic regression model\\nfrom sklearn.linear_model import LogisticRegression\\nlogreg = LogisticRegression()\\n\\n# split train set into train and test\\nX_train, X_test, y_train, y_test = train_test_split(train.drop([\\'Sales\\', \\'Customers\\'], axis=1), train[\\'Sales\\'], test_size=0.4, random_state=42)\\n\\n# fit the model with data\\nlogreg.fit(X_train,y_train)\\n\\n# predict on test data\\ny_pred=logreg.predict(X_test)\\n\\n# compute and print R^2 and RMSE\\nprint(\"R^2: {}\".format(logreg.score(X_test, y_test)))\\nrmse = np.sqrt(mean_squared_error(y_test, y_pred))\\nprint(\"Root Mean Squared Error: {}\".format(rmse))'"
      ]
     },
     "execution_count": 24,
     "metadata": {},
     "output_type": "execute_result"
    }
   ],
   "source": [
    "# defining a logistic regression model\n",
    "from sklearn.linear_model import LogisticRegression\n",
    "logreg = LogisticRegression()\n",
    "\n",
    "# split train set into train and test\n",
    "X_train, X_test, y_train, y_test = train_test_split(train.drop(['Sales', 'Customers'], axis=1), train['Sales'], test_size=0.4, random_state=42)\n",
    "\n",
    "# fit the model with data\n",
    "logreg.fit(X_train,y_train)\n",
    "\n",
    "# predict on test data\n",
    "y_pred=logreg.predict(X_test)\n",
    "\n",
    "# compute and print R^2 and RMSE\n",
    "print(\"R^2: {}\".format(logreg.score(X_test, y_test)))\n",
    "rmse = np.sqrt(mean_squared_error(y_test, y_pred))\n",
    "print(\"Root Mean Squared Error: {}\".format(rmse))"
   ]
  },
  {
   "attachments": {},
   "cell_type": "markdown",
   "metadata": {},
   "source": [
    "## random forest"
   ]
  },
  {
   "cell_type": "code",
   "execution_count": null,
   "metadata": {},
   "outputs": [],
   "source": [
    "# random forest model\n",
    "from sklearn.ensemble import RandomForestRegressor\n",
    "rf = RandomForestRegressor(n_estimators=100, random_state=42)\n",
    "\n",
    "# fit the model with data\n",
    "rf.fit(X_train,y_train)\n",
    "\n",
    "# predict on test data\n",
    "y_pred=rf.predict(X_test)\n",
    "\n",
    "# compute and print R^2 and RMSE\n",
    "print(\"R^2: {}\".format(rf.score(X_test, y_test)))\n",
    "rmse = np.sqrt(mean_squared_error(y_test, y_pred))\n",
    "print(\"Root Mean Squared Error: {}\".format(rmse))\n",
    "\n",
    "# predict on test data\n",
    "y_pred = rf.predict(test)\n",
    "print(y_pred)\n"
   ]
  },
  {
   "cell_type": "code",
   "execution_count": null,
   "metadata": {},
   "outputs": [
    {
     "name": "stdout",
     "output_type": "stream",
     "text": [
      "R^2: 0.8873032687463964\n",
      "Root Mean Squared Error: 1291.2981004291232\n"
     ]
    }
   ],
   "source": [
    "# random forest model\n",
    "from sklearn.ensemble import RandomForestRegressor\n",
    "rf = RandomForestRegressor(n_estimators=100, random_state=42)\n",
    "\n",
    "# fit the model with data\n",
    "rf.fit(X_train,y_train)\n",
    "\n",
    "# predict on test data\n",
    "y_pred=rf.predict(X_test)\n",
    "\n",
    "# compute and print R^2 and RMSE\n",
    "print(\"R^2: {}\".format(rf.score(X_test, y_test)))\n",
    "rmse = np.sqrt(mean_squared_error(y_test, y_pred))\n",
    "print(\"Root Mean Squared Error: {}\".format(rmse))"
   ]
  },
  {
   "cell_type": "code",
   "execution_count": null,
   "metadata": {},
   "outputs": [
    {
     "name": "stdout",
     "output_type": "stream",
     "text": [
      "Model Performance\n",
      "Average Error: 750.7358 degrees.\n",
      "Accuracy = -inf%.\n",
      "-inf\n"
     ]
    },
    {
     "ename": "AttributeError",
     "evalue": "'GridSearchCV' object has no attribute 'best_estimator_'",
     "output_type": "error",
     "traceback": [
      "\u001b[0;31m---------------------------------------------------------------------------\u001b[0m",
      "\u001b[0;31mAttributeError\u001b[0m                            Traceback (most recent call last)",
      "Cell \u001b[0;32mIn[27], line 17\u001b[0m\n\u001b[1;32m     14\u001b[0m base_accuracy \u001b[39m=\u001b[39m evaluate(base_model, X_test, y_test)\n\u001b[1;32m     15\u001b[0m \u001b[39mprint\u001b[39m(base_accuracy)\n\u001b[0;32m---> 17\u001b[0m best_random \u001b[39m=\u001b[39m grid\u001b[39m.\u001b[39;49mbest_estimator_\n\u001b[1;32m     18\u001b[0m random_accuracy \u001b[39m=\u001b[39m evaluate(best_random, X_test, y_test)\n\u001b[1;32m     19\u001b[0m \u001b[39mprint\u001b[39m(random_accuracy)\n",
      "\u001b[0;31mAttributeError\u001b[0m: 'GridSearchCV' object has no attribute 'best_estimator_'"
     ]
    }
   ],
   "source": [
    "base_model = RandomForestRegressor(n_estimators = 10, random_state = 42)\n",
    "base_model.fit(X_train, y_train)\n",
    "base_accuracy = evaluate(base_model, X_test, y_test)\n",
    "print(base_accuracy)\n",
    "\n",
    "best_random = grid.best_estimator_\n",
    "random_accuracy = evaluate(best_random, X_test, y_test)\n",
    "print(random_accuracy)"
   ]
  },
  {
   "attachments": {},
   "cell_type": "markdown",
   "metadata": {},
   "source": [
    "## Decision Tree"
   ]
  },
  {
   "cell_type": "code",
   "execution_count": null,
   "metadata": {},
   "outputs": [],
   "source": [
    "# make a decision tree model\n",
    "from sklearn.tree import DecisionTreeRegressor\n",
    "dt = DecisionTreeRegressor(random_state=42)\n",
    "\n",
    "# fit the model with data\n",
    "dt.fit(X_train,y_train)\n",
    "\n",
    "# predict on test data\n",
    "y_pred=dt.predict(X_test)\n",
    "\n",
    "# compute and print R^2 and RMSE\n",
    "print(\"R^2: {}\".format(dt.score(X_test, y_test)))\n",
    "rmse = np.sqrt(mean_squared_error(y_test, y_pred))\n",
    "print(\"Root Mean Squared Error: {}\".format(rmse))"
   ]
  },
  {
   "cell_type": "code",
   "execution_count": null,
   "metadata": {},
   "outputs": [],
   "source": [
    "# hyperparameter tuning with grid search\n",
    "from sklearn.model_selection import GridSearchCV\n",
    "\n",
    "# define the parameter values that should be searched\n",
    "max_depth = list(range(1, 5))\n",
    "min_samples_split = list(range(2, 5))\n",
    "min_samples_leaf = list(range(1, 5))\n",
    "\n",
    "# create a parameter grid: map the parameter names to the values that should be searched\n",
    "param_grid = dict(max_depth=max_depth, min_samples_split=min_samples_split, min_samples_leaf=min_samples_leaf)\n",
    "\n",
    "# instantiate the grid\n",
    "grid = GridSearchCV(dt, param_grid, cv=10, scoring='neg_mean_squared_error', n_jobs=-1)\n",
    "\n",
    "# fit the grid with data\n",
    "grid.fit(X_train, y_train)\n",
    "\n",
    "# view the complete results (list of named tuples)\n",
    "grid.cv_results_\n",
    "\n",
    "# examine the best model\n",
    "print(grid.best_score_)\n",
    "print(grid.best_params_)\n",
    "print(grid.best_estimator_)\n",
    "\n",
    "base_model = DecisionTreeRegressor(random_state = 42)\n",
    "base_model.fit(X_train, y_train)\n",
    "base_accuracy = evaluate(base_model, X_test, y_test)\n",
    "print(base_accuracy)\n",
    "\n",
    "best_random = grid.best_estimator_\n",
    "random_accuracy = evaluate(best_random, X_test, y_test)\n",
    "print(random_accuracy)\n",
    "\n"
   ]
  }
 ],
 "metadata": {
  "kernelspec": {
   "display_name": "Python 3",
   "language": "python",
   "name": "python3"
  },
  "language_info": {
   "codemirror_mode": {
    "name": "ipython",
    "version": 3
   },
   "file_extension": ".py",
   "mimetype": "text/x-python",
   "name": "python",
   "nbconvert_exporter": "python",
   "pygments_lexer": "ipython3",
   "version": "3.10.7"
  },
  "orig_nbformat": 4,
  "vscode": {
   "interpreter": {
    "hash": "b0fa6594d8f4cbf19f97940f81e996739fb7646882a419484c72d19e05852a7e"
   }
  }
 },
 "nbformat": 4,
 "nbformat_minor": 2
}
